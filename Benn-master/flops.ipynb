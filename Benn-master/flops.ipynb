{
  "nbformat": 4,
  "nbformat_minor": 0,
  "metadata": {
    "colab": {
      "name": "flops.ipynb",
      "provenance": [],
      "collapsed_sections": [],
      "mount_file_id": "1fJT_pzvSlk8hNWUkOSYudEk3eV8vPcJI",
      "authorship_tag": "ABX9TyPvgGwxbn5jBv8FMh+SW/OL",
      "include_colab_link": true
    },
    "kernelspec": {
      "name": "python3",
      "display_name": "Python 3"
    },
    "accelerator": "GPU"
  },
  "cells": [
    {
      "cell_type": "markdown",
      "metadata": {
        "id": "view-in-github",
        "colab_type": "text"
      },
      "source": [
        "<a href=\"https://colab.research.google.com/github/jgdshkovi/Benn/blob/master/flops.ipynb\" target=\"_parent\"><img src=\"https://colab.research.google.com/assets/colab-badge.svg\" alt=\"Open In Colab\"/></a>"
      ]
    },
    {
      "cell_type": "code",
      "metadata": {
        "id": "lr2ufOOWq42z",
        "colab_type": "code",
        "outputId": "4caf6110-897b-47ec-9aa3-74c871a8f01f",
        "colab": {
          "base_uri": "https://localhost:8080/",
          "height": 35
        }
      },
      "source": [
        "cd /content/drive/My Drive/Z/filter_pruning/imgnet"
      ],
      "execution_count": 1,
      "outputs": [
        {
          "output_type": "stream",
          "text": [
            "/content/drive/My Drive/Z/filter_pruning/imgnet\n"
          ],
          "name": "stdout"
        }
      ]
    },
    {
      "cell_type": "code",
      "metadata": {
        "id": "GBRss_WvrlXF",
        "colab_type": "code",
        "colab": {}
      },
      "source": [
        "from model import *\n",
        "from compute_flops import *"
      ],
      "execution_count": 0,
      "outputs": []
    },
    {
      "cell_type": "code",
      "metadata": {
        "id": "W6M-7Oi8rlT4",
        "colab_type": "code",
        "outputId": "d0f1b62c-85e8-45fa-c5ba-0c479afb9ce4",
        "colab": {
          "base_uri": "https://localhost:8080/",
          "height": 35
        }
      },
      "source": [
        "newmodel = vgg16(config=[26, 24, 'M', 49, 64, 'M', 93, 117, 108, 'M', 233, 244, 180, 'M', 253, 246, 334], pretrained=False)\n",
        "#newmodel.cuda()"
      ],
      "execution_count": 3,
      "outputs": [
        {
          "output_type": "stream",
          "text": [
            "CFG, [26, 24, 'M', 49, 64, 'M', 93, 117, 108, 'M', 233, 244, 180, 'M', 253, 246, 334]\n"
          ],
          "name": "stdout"
        }
      ]
    },
    {
      "cell_type": "code",
      "metadata": {
        "id": "GRGKEWLlsPUK",
        "colab_type": "code",
        "outputId": "9a6cbbce-dfb9-4bb3-ddab-7cb3edc2d96d",
        "colab": {
          "base_uri": "https://localhost:8080/",
          "height": 35
        }
      },
      "source": [
        "print_model_param_nums(newmodel)"
      ],
      "execution_count": 4,
      "outputs": [
        {
          "output_type": "stream",
          "text": [
            "  + Number of params: 91.07M\n"
          ],
          "name": "stdout"
        }
      ]
    },
    {
      "cell_type": "code",
      "metadata": {
        "id": "8O4a9tC2sPQZ",
        "colab_type": "code",
        "outputId": "402340d6-6a94-4170-e4fe-003c6a833261",
        "colab": {
          "base_uri": "https://localhost:8080/",
          "height": 974
        }
      },
      "source": [
        "print_model_param_flops(newmodel,cfg=[26, 24, 'M', 49, 64, 'M', 93, 117, 108, 'M', 233, 244, 180, 'M', 253, 246, 334])"
      ],
      "execution_count": 5,
      "outputs": [
        {
          "output_type": "stream",
          "text": [
            "  + Number of FLOPs: 5.90795G\n",
            "list_conv:  [215255040.0, 1694343168.0, 798438144.0, 2126659584.0, 1008810432.0, 1843732800.0, 2140846848.0, 1065891120.0, 2407460160.0, 1859820480.0, 482144124.0, 658871640.0, 869820168.0]\n",
            "list_bn:  []\n",
            "list_relu:  [3913728, 3612672, 1843968, 2408448, 874944, 1100736, 1016064, 548016, 573888, 423360, 148764, 144648, 196392, 12288, 12288]\n",
            "list_linear:  [402223104, 100675584, 24579000]\n",
            "list_upsample:  []\n",
            "list_pooling:  [3612672, 2408448, 1016064, 423360]\n",
            "conv0: 215255040.0\n",
            "relu0: 3913728\n",
            "conv1: 1694343168.0\n",
            "relu1: 3612672\n",
            "maxpool0: 3612672\n",
            "\n",
            "conv2: 798438144.0\n",
            "relu2: 1843968\n",
            "conv3: 2126659584.0\n",
            "relu3: 2408448\n",
            "maxpool1: 2408448\n",
            "\n",
            "conv4: 1008810432.0\n",
            "relu4: 874944\n",
            "conv5: 1843732800.0\n",
            "relu5: 1100736\n",
            "conv6: 2140846848.0\n",
            "relu6: 1016064\n",
            "maxpool2: 1016064\n",
            "\n",
            "conv7: 1065891120.0\n",
            "relu7: 548016\n",
            "conv8: 2407460160.0\n",
            "relu8: 573888\n",
            "conv9: 1859820480.0\n",
            "relu9: 423360\n",
            "maxpool3: 423360\n",
            "\n",
            "conv10: 482144124.0\n",
            "relu10: 148764\n",
            "conv11: 658871640.0\n",
            "relu11: 144648\n",
            "conv12: 869820168.0\n",
            "relu12: 196392\n",
            "\n",
            "linear0: 402223104\n",
            "relu13: 12288\n",
            "\n",
            "linear1: 100675584\n",
            "relu14: 12288\n",
            "\n",
            "linear2: 24579000\n",
            "\n"
          ],
          "name": "stdout"
        },
        {
          "output_type": "execute_result",
          "data": {
            "text/plain": [
              "5907954048.0"
            ]
          },
          "metadata": {
            "tags": []
          },
          "execution_count": 5
        }
      ]
    },
    {
      "cell_type": "markdown",
      "metadata": {
        "id": "hiMGpePIyyTS",
        "colab_type": "text"
      },
      "source": [
        "**used another github code(below),this works fine to visualize, like model summary.\n",
        "but cant understand the flop notations like GMac,MAC...**"
      ]
    },
    {
      "cell_type": "code",
      "metadata": {
        "id": "HUvHD_botgDt",
        "colab_type": "code",
        "outputId": "a150d969-ff96-481d-8afe-4ba0d34c3203",
        "colab": {
          "base_uri": "https://localhost:8080/",
          "height": 331
        }
      },
      "source": [
        "#!pip install --upgrade git+https://github.com/sovrasov/flops-counter.pytorch.git"
      ],
      "execution_count": 0,
      "outputs": [
        {
          "output_type": "stream",
          "text": [
            "Collecting git+https://github.com/sovrasov/flops-counter.pytorch.git\n",
            "  Cloning https://github.com/sovrasov/flops-counter.pytorch.git to /tmp/pip-req-build-du5fzvfr\n",
            "  Running command git clone -q https://github.com/sovrasov/flops-counter.pytorch.git /tmp/pip-req-build-du5fzvfr\n",
            "Requirement already satisfied, skipping upgrade: torch in /usr/local/lib/python3.6/dist-packages (from ptflops==0.6.2) (1.5.0+cu101)\n",
            "Requirement already satisfied, skipping upgrade: numpy in /usr/local/lib/python3.6/dist-packages (from torch->ptflops==0.6.2) (1.18.4)\n",
            "Requirement already satisfied, skipping upgrade: future in /usr/local/lib/python3.6/dist-packages (from torch->ptflops==0.6.2) (0.16.0)\n",
            "Building wheels for collected packages: ptflops\n",
            "  Building wheel for ptflops (setup.py) ... \u001b[?25l\u001b[?25hdone\n",
            "  Created wheel for ptflops: filename=ptflops-0.6.2-cp36-none-any.whl size=9348 sha256=85d0fee043080b049f3e795d0ad03a5299220f8d371f2250f681a708b975b28b\n",
            "  Stored in directory: /tmp/pip-ephem-wheel-cache-yvs3tuqj/wheels/00/ce/d1/169969eba40b2078b42c637bc9aac0f265e75a8a951b4e8570\n",
            "Successfully built ptflops\n",
            "Installing collected packages: ptflops\n",
            "  Found existing installation: ptflops 0.6.2\n",
            "    Uninstalling ptflops-0.6.2:\n",
            "      Successfully uninstalled ptflops-0.6.2\n",
            "Successfully installed ptflops-0.6.2\n"
          ],
          "name": "stdout"
        }
      ]
    },
    {
      "cell_type": "code",
      "metadata": {
        "id": "FIUUqAfttf--",
        "colab_type": "code",
        "outputId": "ba7b9df2-88cd-47fd-e179-6a3b96e56638",
        "colab": {
          "base_uri": "https://localhost:8080/",
          "height": 974
        }
      },
      "source": [
        "import torch\n",
        "from ptflops import get_model_complexity_info\n",
        "\n",
        "with torch.cuda.device(0):\n",
        "  #net = models.densenet161()\n",
        "  macs, params = get_model_complexity_info(newmodel, (3, 224, 224), as_strings=True,\n",
        "                                           print_per_layer_stat=True, verbose=True)\n",
        "  print('{:<30}  {:<8}'.format('Computational complexity: ', macs))\n",
        "  print('{:<30}  {:<8}'.format('Number of parameters: ', params))"
      ],
      "execution_count": 0,
      "outputs": [
        {
          "output_type": "stream",
          "text": [
            "Warning: module Dropout is treated as a zero-op.\n",
            "Warning: module VGG is treated as a zero-op.\n",
            "VGG(\n",
            "  91.073 M, 100.000% Params, 2.961 GMac, 100.000% MACs, \n",
            "  (features): Sequential(\n",
            "    3.155 M, 3.465% Params, 2.873 GMac, 97.029% MACs, \n",
            "    (0): Conv2d(0.001 M, 0.001% Params, 0.037 GMac, 1.234% MACs, 3, 26, kernel_size=(3, 3), stride=(1, 1), padding=(1, 1))\n",
            "    (1): ReLU(0.0 M, 0.000% Params, 0.001 GMac, 0.044% MACs, inplace=True)\n",
            "    (2): Conv2d(0.006 M, 0.006% Params, 0.283 GMac, 9.558% MACs, 26, 24, kernel_size=(3, 3), stride=(1, 1), padding=(1, 1))\n",
            "    (3): ReLU(0.0 M, 0.000% Params, 0.001 GMac, 0.041% MACs, inplace=True)\n",
            "    (4): MaxPool2d(0.0 M, 0.000% Params, 0.001 GMac, 0.041% MACs, kernel_size=2, stride=2, padding=0, dilation=1, ceil_mode=False)\n",
            "    (5): Conv2d(0.011 M, 0.012% Params, 0.133 GMac, 4.505% MACs, 24, 49, kernel_size=(3, 3), stride=(1, 1), padding=(1, 1))\n",
            "    (6): ReLU(0.0 M, 0.000% Params, 0.001 GMac, 0.021% MACs, inplace=True)\n",
            "    (7): Conv2d(0.028 M, 0.031% Params, 0.355 GMac, 11.984% MACs, 49, 64, kernel_size=(3, 3), stride=(1, 1), padding=(1, 1))\n",
            "    (8): ReLU(0.0 M, 0.000% Params, 0.001 GMac, 0.027% MACs, inplace=True)\n",
            "    (9): MaxPool2d(0.0 M, 0.000% Params, 0.001 GMac, 0.027% MACs, kernel_size=2, stride=2, padding=0, dilation=1, ceil_mode=False)\n",
            "    (10): Conv2d(0.054 M, 0.059% Params, 0.168 GMac, 5.683% MACs, 64, 93, kernel_size=(3, 3), stride=(1, 1), padding=(1, 1))\n",
            "    (11): ReLU(0.0 M, 0.000% Params, 0.0 GMac, 0.010% MACs, inplace=True)\n",
            "    (12): Conv2d(0.098 M, 0.108% Params, 0.307 GMac, 10.384% MACs, 93, 117, kernel_size=(3, 3), stride=(1, 1), padding=(1, 1))\n",
            "    (13): ReLU(0.0 M, 0.000% Params, 0.0 GMac, 0.012% MACs, inplace=True)\n",
            "    (14): Conv2d(0.114 M, 0.125% Params, 0.357 GMac, 12.056% MACs, 117, 108, kernel_size=(3, 3), stride=(1, 1), padding=(1, 1))\n",
            "    (15): ReLU(0.0 M, 0.000% Params, 0.0 GMac, 0.011% MACs, inplace=True)\n",
            "    (16): MaxPool2d(0.0 M, 0.000% Params, 0.0 GMac, 0.011% MACs, kernel_size=2, stride=2, padding=0, dilation=1, ceil_mode=False)\n",
            "    (17): Conv2d(0.227 M, 0.249% Params, 0.178 GMac, 6.003% MACs, 108, 233, kernel_size=(3, 3), stride=(1, 1), padding=(1, 1))\n",
            "    (18): ReLU(0.0 M, 0.000% Params, 0.0 GMac, 0.006% MACs, inplace=True)\n",
            "    (19): Conv2d(0.512 M, 0.562% Params, 0.401 GMac, 13.555% MACs, 233, 244, kernel_size=(3, 3), stride=(1, 1), padding=(1, 1))\n",
            "    (20): ReLU(0.0 M, 0.000% Params, 0.0 GMac, 0.006% MACs, inplace=True)\n",
            "    (21): Conv2d(0.395 M, 0.434% Params, 0.31 GMac, 10.471% MACs, 244, 180, kernel_size=(3, 3), stride=(1, 1), padding=(1, 1))\n",
            "    (22): ReLU(0.0 M, 0.000% Params, 0.0 GMac, 0.005% MACs, inplace=True)\n",
            "    (23): MaxPool2d(0.0 M, 0.000% Params, 0.0 GMac, 0.005% MACs, kernel_size=2, stride=2, padding=0, dilation=1, ceil_mode=False)\n",
            "    (24): Conv2d(0.41 M, 0.450% Params, 0.08 GMac, 2.715% MACs, 180, 253, kernel_size=(3, 3), stride=(1, 1), padding=(1, 1))\n",
            "    (25): ReLU(0.0 M, 0.000% Params, 0.0 GMac, 0.002% MACs, inplace=True)\n",
            "    (26): Conv2d(0.56 M, 0.615% Params, 0.11 GMac, 3.710% MACs, 253, 246, kernel_size=(3, 3), stride=(1, 1), padding=(1, 1))\n",
            "    (27): ReLU(0.0 M, 0.000% Params, 0.0 GMac, 0.002% MACs, inplace=True)\n",
            "    (28): Conv2d(0.74 M, 0.812% Params, 0.145 GMac, 4.897% MACs, 246, 334, kernel_size=(3, 3), stride=(1, 1), padding=(1, 1))\n",
            "    (29): ReLU(0.0 M, 0.000% Params, 0.0 GMac, 0.002% MACs, inplace=True)\n",
            "  )\n",
            "  (avgpool): AdaptiveAvgPool2d(0.0 M, 0.000% Params, 0.0 GMac, 0.002% MACs, output_size=(7, 7))\n",
            "  (classifier): Sequential(\n",
            "    87.918 M, 96.535% Params, 0.088 GMac, 2.969% MACs, \n",
            "    (0): Linear(67.039 M, 73.611% Params, 0.067 GMac, 2.264% MACs, in_features=16366, out_features=4096, bias=True)\n",
            "    (1): ReLU(0.0 M, 0.000% Params, 0.0 GMac, 0.000% MACs, inplace=True)\n",
            "    (2): Dropout(0.0 M, 0.000% Params, 0.0 GMac, 0.000% MACs, p=0.5, inplace=False)\n",
            "    (3): Linear(16.781 M, 18.426% Params, 0.017 GMac, 0.567% MACs, in_features=4096, out_features=4096, bias=True)\n",
            "    (4): ReLU(0.0 M, 0.000% Params, 0.0 GMac, 0.000% MACs, inplace=True)\n",
            "    (5): Dropout(0.0 M, 0.000% Params, 0.0 GMac, 0.000% MACs, p=0.5, inplace=False)\n",
            "    (6): Linear(4.097 M, 4.499% Params, 0.004 GMac, 0.138% MACs, in_features=4096, out_features=1000, bias=True)\n",
            "  )\n",
            ")\n",
            "Computational complexity:       2.96 GMac\n",
            "Number of parameters:           91.07 M \n"
          ],
          "name": "stdout"
        }
      ]
    }
  ]
}