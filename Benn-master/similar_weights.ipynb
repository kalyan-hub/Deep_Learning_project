{
  "nbformat": 4,
  "nbformat_minor": 0,
  "metadata": {
    "colab": {
      "name": "similar-weights.ipynb",
      "provenance": [],
      "collapsed_sections": [],
      "mount_file_id": "17TfmeXmVi7JqKwwf4_o1XcsVdP961iGE",
      "authorship_tag": "ABX9TyMnw7SXktdcliQ4lijOVwE+",
      "include_colab_link": true
    },
    "kernelspec": {
      "name": "python3",
      "display_name": "Python 3"
    },
    "accelerator": "GPU"
  },
  "cells": [
    {
      "cell_type": "markdown",
      "metadata": {
        "id": "view-in-github",
        "colab_type": "text"
      },
      "source": [
        "<a href=\"https://colab.research.google.com/github/jgdshkovi/Benn/blob/master/similar_weights.ipynb\" target=\"_parent\"><img src=\"https://colab.research.google.com/assets/colab-badge.svg\" alt=\"Open In Colab\"/></a>"
      ]
    },
    {
      "cell_type": "code",
      "metadata": {
        "id": "kpLBJL9Tb6sK",
        "colab_type": "code",
        "colab": {
          "base_uri": "https://localhost:8080/",
          "height": 74
        },
        "outputId": "24920aa3-5b67-4b07-f49d-9bbca7e12f5c"
      },
      "source": [
        "import torch\n",
        "import torch.nn as nn\n",
        "\n",
        "import math\n",
        "import matplotlib\n",
        "import matplotlib.pyplot as plt\n",
        "import numpy as np\n",
        "import seaborn as sns\n",
        "from sklearn.cluster import KMeans\n",
        "from pylab import rcParams\n",
        "import warnings\n",
        "\n",
        "sns.set_color_codes()\n",
        "sns.set_context('poster')\n",
        "warnings.filterwarnings('ignore')\n",
        "rcParams['figure.figsize'] = 10,5"
      ],
      "execution_count": 2,
      "outputs": [
        {
          "output_type": "stream",
          "text": [
            "/usr/local/lib/python3.6/dist-packages/statsmodels/tools/_testing.py:19: FutureWarning: pandas.util.testing is deprecated. Use the functions in the public API at pandas.testing instead.\n",
            "  import pandas.util.testing as tm\n"
          ],
          "name": "stderr"
        }
      ]
    },
    {
      "cell_type": "code",
      "metadata": {
        "id": "ErREGWzrcHY3",
        "colab_type": "code",
        "colab": {}
      },
      "source": [
        ""
      ],
      "execution_count": 0,
      "outputs": []
    },
    {
      "cell_type": "code",
      "metadata": {
        "id": "7iuK1iCQcR8u",
        "colab_type": "code",
        "colab": {}
      },
      "source": [
        "from google.colab import drive\n",
        "drive.mount('/content/drive')"
      ],
      "execution_count": 0,
      "outputs": []
    },
    {
      "cell_type": "code",
      "metadata": {
        "id": "cVgWJdUrcgx5",
        "colab_type": "code",
        "colab": {
          "base_uri": "https://localhost:8080/",
          "height": 35
        },
        "outputId": "71f531e1-1f31-48ae-902e-45fe5aa578cf"
      },
      "source": [
        "%cd /content/drive/My Drive/Z/filter_pruning\n",
        "from models import *\n",
        "import spherical_kmeans as skm"
      ],
      "execution_count": 3,
      "outputs": [
        {
          "output_type": "stream",
          "text": [
            "/content/drive/My Drive/Z/filter_pruning\n"
          ],
          "name": "stdout"
        }
      ]
    },
    {
      "cell_type": "code",
      "metadata": {
        "id": "9LhDor9ddVxI",
        "colab_type": "code",
        "colab": {}
      },
      "source": [
        "model = torch.load('logs/model_best.pth.tar')\n",
        "checkpoint = torch.load('logs/checkpoint.pth.tar')"
      ],
      "execution_count": 0,
      "outputs": []
    },
    {
      "cell_type": "code",
      "metadata": {
        "id": "--GZEMSvdVtt",
        "colab_type": "code",
        "colab": {
          "base_uri": "https://localhost:8080/",
          "height": 35
        },
        "outputId": "64539fbb-e4e1-4c6c-a720-ad7447032603"
      },
      "source": [
        "model = vgg(dataset='cifar10', depth=16)\n",
        "model.load_state_dict(checkpoint['state_dict'])"
      ],
      "execution_count": 5,
      "outputs": [
        {
          "output_type": "execute_result",
          "data": {
            "text/plain": [
              "<All keys matched successfully>"
            ]
          },
          "metadata": {
            "tags": []
          },
          "execution_count": 5
        }
      ]
    },
    {
      "cell_type": "code",
      "metadata": {
        "id": "mb6f3BK5pjsp",
        "colab_type": "code",
        "colab": {
          "base_uri": "https://localhost:8080/",
          "height": 395
        },
        "outputId": "f387e340-7e8d-426a-c029-930b8eabe8ec"
      },
      "source": [
        "ress = []\n",
        "X = []\n",
        "for m in model.modules():\n",
        "  if isinstance(m , nn.Conv2d):\n",
        "    shape = m.weight.data.shape\n",
        "    print(shape)\n",
        "    reshaped_tensor = m.weight.data.clone().numpy().reshape(shape[0] , shape[1]*shape[2]*shape[3])\n",
        "    X = reshaped_tensor\n",
        "    K = range(1,shape[0]+1)\n",
        "    dist_points_from_cluster_center = []\n",
        "    for no_of_clusters in K:\n",
        "      res = skm.spherical_k_means(X,n_clusters=no_of_clusters)\n",
        "      ress.append(res[1])\n",
        "      dist_points_from_cluster_center.append(res[2])\n",
        "\n",
        "    print(dist_points_from_cluster_center)\n",
        "    plt.plot(K, dist_points_from_cluster_center)\n",
        "    break"
      ],
      "execution_count": 37,
      "outputs": [
        {
          "output_type": "stream",
          "text": [
            "torch.Size([64, 3, 3, 3])\n",
            "[162.92686, 138.03294, 115.0706, 103.07436, 94.94717, 89.683624, 79.17703, 72.3799, 68.92973, 61.88436, 55.92576, 52.92383, 52.116337, 47.420074, 42.09857, 40.061737, 39.02826, 36.201225, 34.637714, 29.957275, 28.998478, 26.607553, 24.82565, 24.471607, 22.355457, 20.283672, 18.946846, 17.120312, 15.707512, 15.53673, 14.081871, 12.586693, 11.552683, 11.199465, 9.74263, 9.517868, 9.1698, 8.160339, 7.4563246, 7.1701345, 6.71568, 5.8344254, 5.538031, 5.112393, 4.4722886, 3.8476424, 3.730368, 3.3111296, 2.7895596, 2.644308, 2.2931557, 2.0105495, 1.7822958, 1.5657904, 1.3150954, 1.1256804, 0.9212744, 0.7394254, 0.5766382, 0.419171, 0.2858158, 0.17043455, 0.083903395, 1.6653345e-14]\n"
          ],
          "name": "stdout"
        },
        {
          "output_type": "display_data",
          "data": {
            "image/png": "[encoded data removed]",
            "text/plain": [
              "<Figure size 720x360 with 1 Axes>"
            ]
          },
          "metadata": {
            "tags": [],
            "needs_background": "light"
          }
        }
      ]
    },
    {
      "cell_type": "code",
      "metadata": {
        "id": "jeADP1dkqXck",
        "colab_type": "code",
        "colab": {}
      },
      "source": [
        "def calc_distance(x1, y1, a, b, c):\n",
        "  d = abs((a * x1 + b * y1 + c)) / (math.sqrt(a * a + b * b))\n",
        "  return d"
      ],
      "execution_count": 0,
      "outputs": []
    },
    {
      "cell_type": "code",
      "metadata": {
        "id": "knf8uyMJdVlL",
        "colab_type": "code",
        "colab": {}
      },
      "source": [
        "a = dist_points_from_cluster_center[0] - dist_points_from_cluster_center[63]\n",
        "b = K[63] - K[0]\n",
        "c1 = K[0] * dist_points_from_cluster_center[63]\n",
        "c2 = K[63] * dist_points_from_cluster_center[0]\n",
        "c = c1 - c2"
      ],
      "execution_count": 0,
      "outputs": []
    },
    {
      "cell_type": "code",
      "metadata": {
        "id": "gNs1n3ZZdVhP",
        "colab_type": "code",
        "colab": {}
      },
      "source": [
        "distance_of_points_from_line = []\n",
        "for k in range(64):\n",
        "  distance_of_points_from_line.append(\n",
        "      calc_distance(K[k], dist_points_from_cluster_center[k], a, b, c))"
      ],
      "execution_count": 0,
      "outputs": []
    },
    {
      "cell_type": "code",
      "metadata": {
        "id": "wOmROmGwvMO1",
        "colab_type": "code",
        "colab": {
          "base_uri": "https://localhost:8080/",
          "height": 356
        },
        "outputId": "0e2e3122-a403-4a04-e53f-188489f3cc7e"
      },
      "source": [
        "plt.plot(K, distance_of_points_from_line)"
      ],
      "execution_count": 41,
      "outputs": [
        {
          "output_type": "execute_result",
          "data": {
            "text/plain": [
              "[<matplotlib.lines.Line2D at 0x7f02ae6fed68>]"
            ]
          },
          "metadata": {
            "tags": []
          },
          "execution_count": 41
        },
        {
          "output_type": "display_data",
          "data": {
            "image/png": "[encoded data removed]",
            "text/plain": [
              "<Figure size 720x360 with 1 Axes>"
            ]
          },
          "metadata": {
            "tags": [],
            "needs_background": "light"
          }
        }
      ]
    },
    {
      "cell_type": "code",
      "metadata": {
        "id": "tFgIeEdKvRDA",
        "colab_type": "code",
        "colab": {
          "base_uri": "https://localhost:8080/",
          "height": 35
        },
        "outputId": "a4172c1e-3bdc-491c-c380-b3fe000fca50"
      },
      "source": [
        "max_dis_ind = distance_of_points_from_line.index(max(distance_of_points_from_line))\n",
        "max_dis_ind"
      ],
      "execution_count": 44,
      "outputs": [
        {
          "output_type": "execute_result",
          "data": {
            "text/plain": [
              "14"
            ]
          },
          "metadata": {
            "tags": []
          },
          "execution_count": 44
        }
      ]
    },
    {
      "cell_type": "code",
      "metadata": {
        "id": "FcSvgBoovMJ7",
        "colab_type": "code",
        "colab": {
          "base_uri": "https://localhost:8080/",
          "height": 90
        },
        "outputId": "75411377-c72a-41e1-9b02-6260763523d7"
      },
      "source": [
        "ress[max_dis_ind]"
      ],
      "execution_count": 43,
      "outputs": [
        {
          "output_type": "execute_result",
          "data": {
            "text/plain": [
              "array([14,  0,  3,  9,  0, 14,  0,  9,  6,  9,  0, 10,  0,  0,  2,  3,  0,\n",
              "        3,  2,  3,  3, 14,  0,  0,  3,  9,  9, 14,  0, 11,  2,  3,  3,  7,\n",
              "        6,  0,  1,  0,  3,  3,  0,  0,  6, 14,  3,  0,  3,  0, 14, 12,  3,\n",
              "        2,  4,  0, 14,  5,  9,  4,  0,  0,  6, 13, 14,  8], dtype=int32)"
            ]
          },
          "metadata": {
            "tags": []
          },
          "execution_count": 43
        }
      ]
    },
    {
      "cell_type": "code",
      "metadata": {
        "id": "WH_SBWoPvL8k",
        "colab_type": "code",
        "colab": {
          "base_uri": "https://localhost:8080/",
          "height": 201
        },
        "outputId": "d1c00495-7054-4f9a-c797-391370edce0d"
      },
      "source": [
        "print(X[0])\n",
        "print(X[5])"
      ],
      "execution_count": 45,
      "outputs": [
        {
          "output_type": "stream",
          "text": [
            "[-0.20329759 -0.2912947  -0.15875448 -0.4502149  -0.46539706 -0.3355868\n",
            " -0.40248287 -0.4745434  -0.36043137 -0.10599428 -0.1178368   0.01662677\n",
            " -0.2434322  -0.2329341  -0.07560349 -0.35403982 -0.3402888  -0.26939708\n",
            "  0.20197837  0.4592037   0.51661384  0.25861105  0.426074    0.5360691\n",
            "  0.16354738  0.26960593  0.37787127]\n",
            "[-0.11040525  0.2486664   0.22107255 -0.16618459  0.26984513  0.22435495\n",
            " -0.35501167 -0.1570741  -0.06416202 -0.42072827  0.09566244  0.23722015\n",
            " -0.39706457  0.2022598   0.2121238  -0.5351144  -0.33211562 -0.19078048\n",
            " -0.24876417  0.38027808  0.36718726  0.02023249  0.7528788   0.6134622\n",
            " -0.37027356  0.06775948  0.10666069]\n"
          ],
          "name": "stdout"
        }
      ]
    },
    {
      "cell_type": "code",
      "metadata": {
        "id": "XGncqqAmxs-1",
        "colab_type": "code",
        "colab": {}
      },
      "source": [
        "cos = nn.CosineSimilarity()"
      ],
      "execution_count": 0,
      "outputs": []
    },
    {
      "cell_type": "code",
      "metadata": {
        "id": "4-Imt47Ixs5J",
        "colab_type": "code",
        "colab": {
          "base_uri": "https://localhost:8080/",
          "height": 72
        },
        "outputId": "4a6404c2-8dfe-4368-ea42-4994f6c88eca"
      },
      "source": [
        "a = torch.from_numpy(np.reshape(X[0],(1,X[0].size)))\n",
        "b = torch.from_numpy(np.reshape(X[5],(1,X[5].size)))\n",
        "c = torch.from_numpy(np.reshape(X[21],(1,X[5].size)))\n",
        "print(cos(a,b))\n",
        "print(cos(a,c))"
      ],
      "execution_count": 52,
      "outputs": [
        {
          "output_type": "stream",
          "text": [
            "tensor([0.4953])\n",
            "tensor([0.4097])\n",
            "tensor([0.8204])\n"
          ],
          "name": "stdout"
        }
      ]
    },
    {
      "cell_type": "code",
      "metadata": {
        "id": "27OY3vn3xvCv",
        "colab_type": "code",
        "colab": {
          "base_uri": "https://localhost:8080/",
          "height": 55
        },
        "outputId": "f1d30043-2097-42ba-e66f-612e67e6c1f5"
      },
      "source": [
        "over = []\n",
        "correlation = []\n",
        "for i in ress[max_dis_ind]:\n",
        "  for j in ress[max_dis_ind]:\n",
        "    if i!=j and ress[max_dis_ind][i]==ress[max_dis_ind][j]:\n",
        "      s = set((i,j))\n",
        "      if s not in over:\n",
        "        over.append(s)\n",
        "        a = torch.from_numpy(np.reshape(X[i],(1,X[i].size)))\n",
        "        b = torch.from_numpy(np.reshape(X[j],(1,X[j].size)))\n",
        "        #print (i,j,cos(a,b))\n",
        "        correlation.append([i,j,cos(a,b)])\n",
        "\n",
        "print(over)"
      ],
      "execution_count": 57,
      "outputs": [
        {
          "output_type": "stream",
          "text": [
            "[{0, 5}, {9, 3}, {3, 7}, {9, 7}, {10, 6}, {1, 6}, {12, 6}, {4, 6}, {13, 6}, {1, 10}, {10, 12}, {10, 4}, {10, 13}, {1, 12}, {1, 4}, {1, 13}, {12, 4}, {12, 13}, {4, 13}]\n"
          ],
          "name": "stdout"
        }
      ]
    },
    {
      "cell_type": "code",
      "metadata": {
        "id": "qlOauLFJxu9T",
        "colab_type": "code",
        "colab": {
          "base_uri": "https://localhost:8080/",
          "height": 237
        },
        "outputId": "98f2187d-f263-4eec-ca35-d94da4135f9f"
      },
      "source": [
        "#print(correlation)\n",
        "threshold = 0.5\n",
        "for item in correlation:\n",
        "  if item[2]>=threshold:\n",
        "    print(item)\n"
      ],
      "execution_count": 70,
      "outputs": [
        {
          "output_type": "stream",
          "text": [
            "[3, 9, tensor([0.6001])]\n",
            "[3, 7, tensor([0.6781])]\n",
            "[9, 7, tensor([0.8791])]\n",
            "[6, 10, tensor([0.9496])]\n",
            "[6, 1, tensor([0.6893])]\n",
            "[6, 12, tensor([0.8795])]\n",
            "[6, 13, tensor([0.5680])]\n",
            "[10, 1, tensor([0.6910])]\n",
            "[10, 12, tensor([0.9086])]\n",
            "[10, 13, tensor([0.6166])]\n",
            "[1, 12, tensor([0.6971])]\n",
            "[12, 13, tensor([0.5504])]\n"
          ],
          "name": "stdout"
        }
      ]
    }
  ]
}