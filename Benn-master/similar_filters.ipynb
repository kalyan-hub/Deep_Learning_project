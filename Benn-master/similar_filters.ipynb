{
  "nbformat": 4,
  "nbformat_minor": 0,
  "metadata": {
    "colab": {
      "name": "similar filters",
      "provenance": [],
      "collapsed_sections": [],
      "mount_file_id": "17TfmeXmVi7JqKwwf4_o1XcsVdP961iGE",
      "authorship_tag": "ABX9TyOTt+Y0BV0K/1tPAyrell+g",
      "include_colab_link": true
    },
    "kernelspec": {
      "name": "python3",
      "display_name": "Python 3"
    },
    "accelerator": "GPU"
  },
  "cells": [
    {
      "cell_type": "markdown",
      "metadata": {
        "id": "view-in-github",
        "colab_type": "text"
      },
      "source": [
        "<a href=\"https://colab.research.google.com/github/jgdshkovi/Benn/blob/master/similar_filters.ipynb\" target=\"_parent\"><img src=\"https://colab.research.google.com/assets/colab-badge.svg\" alt=\"Open In Colab\"/></a>"
      ]
    },
    {
      "cell_type": "code",
      "metadata": {
        "id": "kpLBJL9Tb6sK",
        "colab_type": "code",
        "outputId": "6588fdc1-acde-4789-f7b0-c1ec382be41d",
        "colab": {
          "base_uri": "https://localhost:8080/",
          "height": 74
        }
      },
      "source": [
        "import torch\n",
        "import torch.nn as nn\n",
        "\n",
        "import math\n",
        "import matplotlib\n",
        "import matplotlib.pyplot as plt\n",
        "import numpy as np\n",
        "import seaborn as sns\n",
        "from sklearn.cluster import KMeans\n",
        "from pylab import rcParams\n",
        "import warnings\n",
        "\n",
        "sns.set_color_codes()\n",
        "sns.set_context('poster')\n",
        "warnings.filterwarnings('ignore')\n",
        "rcParams['figure.figsize'] = 10,5"
      ],
      "execution_count": 1,
      "outputs": [
        {
          "output_type": "stream",
          "text": [
            "/usr/local/lib/python3.6/dist-packages/statsmodels/tools/_testing.py:19: FutureWarning: pandas.util.testing is deprecated. Use the functions in the public API at pandas.testing instead.\n",
            "  import pandas.util.testing as tm\n"
          ],
          "name": "stderr"
        }
      ]
    },
    {
      "cell_type": "code",
      "metadata": {
        "id": "ErREGWzrcHY3",
        "colab_type": "code",
        "colab": {}
      },
      "source": [
        ""
      ],
      "execution_count": 0,
      "outputs": []
    },
    {
      "cell_type": "code",
      "metadata": {
        "id": "7iuK1iCQcR8u",
        "colab_type": "code",
        "colab": {}
      },
      "source": [
        "from google.colab import drive\n",
        "drive.mount('/content/drive')"
      ],
      "execution_count": 0,
      "outputs": []
    },
    {
      "cell_type": "code",
      "metadata": {
        "id": "cVgWJdUrcgx5",
        "colab_type": "code",
        "outputId": "6195acf5-135f-43bb-d0a1-f6cb56042ffa",
        "colab": {
          "base_uri": "https://localhost:8080/",
          "height": 35
        }
      },
      "source": [
        "%cd /content/drive/My Drive/Z/filter_pruning\n",
        "from models import *\n",
        "import spherical_kmeans as skm"
      ],
      "execution_count": 25,
      "outputs": [
        {
          "output_type": "stream",
          "text": [
            "/content/drive/My Drive/Z/filter_pruning\n"
          ],
          "name": "stdout"
        }
      ]
    },
    {
      "cell_type": "code",
      "metadata": {
        "id": "x4a_LlchmFnU",
        "colab_type": "code",
        "colab": {
          "base_uri": "https://localhost:8080/",
          "height": 72
        },
        "outputId": "e9918599-9690-49f9-c47a-c328a3c42841"
      },
      "source": [
        "ls"
      ],
      "execution_count": 5,
      "outputs": [
        {
          "output_type": "stream",
          "text": [
            "cmds.xt.txt       \u001b[0m\u001b[01;34mlogs\u001b[0m/             \u001b[01;34mmodels\u001b[0m/              vggprune.py\n",
            "compute_flops.py  main_finetune.py  \u001b[01;34m__pycache__\u001b[0m/\n",
            "\u001b[01;34mdata.cifar10\u001b[0m/     main.py           spherical_kmeans.py\n"
          ],
          "name": "stdout"
        }
      ]
    },
    {
      "cell_type": "code",
      "metadata": {
        "id": "9LhDor9ddVxI",
        "colab_type": "code",
        "colab": {}
      },
      "source": [
        "model = torch.load('/content/drive/My Drive/A/Dev/logs/model_best.pth.tar')\n",
        "checkpoint = torch.load('/content/drive/My Drive/A/Dev/logs/checkpoint.pth.tar')"
      ],
      "execution_count": 0,
      "outputs": []
    },
    {
      "cell_type": "code",
      "metadata": {
        "id": "--GZEMSvdVtt",
        "colab_type": "code",
        "outputId": "ef41ecef-32b5-4f8d-fc6c-d882d8f56035",
        "colab": {
          "base_uri": "https://localhost:8080/",
          "height": 35
        }
      },
      "source": [
        "model = vgg(dataset='cifar10', depth=16,cfg=[32, 64, 'M', 128, 128, 'M', 256, 256, 256, 'M', 256, 256, 256, 'M', 256, 256, 256])\n",
        "model.load_state_dict(checkpoint['state_dict'])"
      ],
      "execution_count": 27,
      "outputs": [
        {
          "output_type": "execute_result",
          "data": {
            "text/plain": [
              "<All keys matched successfully>"
            ]
          },
          "metadata": {
            "tags": []
          },
          "execution_count": 27
        }
      ]
    },
    {
      "cell_type": "code",
      "metadata": {
        "id": "mb6f3BK5pjsp",
        "colab_type": "code",
        "outputId": "492cdd95-07af-4bbc-a20b-1140cb774a02",
        "colab": {
          "base_uri": "https://localhost:8080/",
          "height": 341
        }
      },
      "source": [
        "ress = []\n",
        "X = []\n",
        "for m in model.modules():\n",
        "  if isinstance(m , nn.Conv2d):\n",
        "    shape = m.weight.data.shape\n",
        "    print(shape)\n",
        "    reshaped_tensor = m.weight.data.clone().numpy().reshape(shape[0] , shape[1]*shape[2]*shape[3])\n",
        "    X = reshaped_tensor\n",
        "    K = range(1,shape[0]+1)\n",
        "    dist_points_from_cluster_center = []\n",
        "    for no_of_clusters in K:\n",
        "      res = skm.spherical_k_means(X,n_clusters=no_of_clusters)\n",
        "      ress.append(res[1])\n",
        "      dist_points_from_cluster_center.append(res[2])\n",
        "\n",
        "    print(dist_points_from_cluster_center)\n",
        "    plt.plot(K, dist_points_from_cluster_center)\n",
        "    break"
      ],
      "execution_count": 28,
      "outputs": [
        {
          "output_type": "stream",
          "text": [
            "torch.Size([32, 3, 3, 3])\n",
            "[120.19971, 99.43198460511246, 89.86909529111222, 83.22480905006115, 75.46839, 68.10506, 56.543922, 49.11573, 42.039852, 36.19839, 30.899393, 27.222488, 22.967604, 20.29919, 18.494656, 16.419584, 13.913087, 12.219044, 10.102379, 9.507074, 8.257473, 6.6315384, 5.858735, 4.987352, 4.2021093, 3.4519086, 2.7896078, 2.1736307, 1.5391436, 0.94311357, 0.37822893, 1.0658141e-14]\n"
          ],
          "name": "stdout"
        },
        {
          "output_type": "display_data",
          "data": {
            "image/png": "[encoded data removed]",
            "text/plain": [
              "<Figure size 432x288 with 1 Axes>"
            ]
          },
          "metadata": {
            "tags": [],
            "needs_background": "light"
          }
        }
      ]
    },
    {
      "cell_type": "code",
      "metadata": {
        "id": "jeADP1dkqXck",
        "colab_type": "code",
        "colab": {}
      },
      "source": [
        "def calc_distance(x1, y1, a, b, c):\n",
        "  d = abs((a * x1 + b * y1 + c)) / (math.sqrt(a * a + b * b))\n",
        "  return d"
      ],
      "execution_count": 0,
      "outputs": []
    },
    {
      "cell_type": "code",
      "metadata": {
        "id": "knf8uyMJdVlL",
        "colab_type": "code",
        "colab": {}
      },
      "source": [
        "a = dist_points_from_cluster_center[0] - dist_points_from_cluster_center[31]\n",
        "b = K[31] - K[0]\n",
        "c1 = K[0] * dist_points_from_cluster_center[31]\n",
        "c2 = K[31] * dist_points_from_cluster_center[0]\n",
        "c = c1 - c2"
      ],
      "execution_count": 0,
      "outputs": []
    },
    {
      "cell_type": "code",
      "metadata": {
        "id": "gNs1n3ZZdVhP",
        "colab_type": "code",
        "colab": {}
      },
      "source": [
        "distance_of_points_from_line = []\n",
        "for k in range(32):\n",
        "  distance_of_points_from_line.append(\n",
        "      calc_distance(K[k], dist_points_from_cluster_center[k], a, b, c))"
      ],
      "execution_count": 0,
      "outputs": []
    },
    {
      "cell_type": "code",
      "metadata": {
        "id": "wOmROmGwvMO1",
        "colab_type": "code",
        "outputId": "d93c271e-fc3c-41c1-dd4f-a9db9b0ec8ef",
        "colab": {
          "base_uri": "https://localhost:8080/",
          "height": 302
        }
      },
      "source": [
        "plt.plot(K, distance_of_points_from_line)"
      ],
      "execution_count": 32,
      "outputs": [
        {
          "output_type": "execute_result",
          "data": {
            "text/plain": [
              "[<matplotlib.lines.Line2D at 0x7f4944143a20>]"
            ]
          },
          "metadata": {
            "tags": []
          },
          "execution_count": 32
        },
        {
          "output_type": "display_data",
          "data": {
            "image/png": "[encoded data removed]",
            "text/plain": [
              "<Figure size 432x288 with 1 Axes>"
            ]
          },
          "metadata": {
            "tags": [],
            "needs_background": "light"
          }
        }
      ]
    },
    {
      "cell_type": "code",
      "metadata": {
        "id": "tFgIeEdKvRDA",
        "colab_type": "code",
        "outputId": "fd976284-dc3c-46fb-f9c7-21acbed07a48",
        "colab": {
          "base_uri": "https://localhost:8080/",
          "height": 35
        }
      },
      "source": [
        "max_dis_ind = distance_of_points_from_line.index(max(distance_of_points_from_line))\n",
        "max_dis_ind"
      ],
      "execution_count": 33,
      "outputs": [
        {
          "output_type": "execute_result",
          "data": {
            "text/plain": [
              "12"
            ]
          },
          "metadata": {
            "tags": []
          },
          "execution_count": 33
        }
      ]
    },
    {
      "cell_type": "code",
      "metadata": {
        "id": "FcSvgBoovMJ7",
        "colab_type": "code",
        "outputId": "abcefc62-eac5-4b73-e8c5-4ce43b30df5d",
        "colab": {
          "base_uri": "https://localhost:8080/",
          "height": 72
        }
      },
      "source": [
        "ress[max_dis_ind]"
      ],
      "execution_count": 34,
      "outputs": [
        {
          "output_type": "execute_result",
          "data": {
            "text/plain": [
              "array([ 3, 12,  2,  4,  2,  2,  2,  2,  2,  3, 12,  3,  3,  7,  0,  3,  5,\n",
              "       11,  3,  2,  3, 12,  6,  2, 10,  3,  9,  8,  3,  2,  1, 12],\n",
              "      dtype=int32)"
            ]
          },
          "metadata": {
            "tags": []
          },
          "execution_count": 34
        }
      ]
    },
    {
      "cell_type": "code",
      "metadata": {
        "id": "WH_SBWoPvL8k",
        "colab_type": "code",
        "outputId": "1044a561-ad84-4c4f-8b64-bce0fc4f3529",
        "colab": {
          "base_uri": "https://localhost:8080/",
          "height": 201
        }
      },
      "source": [
        "print(X[0])\n",
        "print(X[5])"
      ],
      "execution_count": 35,
      "outputs": [
        {
          "output_type": "stream",
          "text": [
            "[ 0.07547926 -0.07205182 -0.28501084  0.21355987 -0.00380274 -0.32825026\n",
            "  0.13494204  0.11724917 -0.16462469  0.08519224  0.00617512 -0.17863092\n",
            "  0.21804366  0.06696135 -0.22263834  0.11168627  0.15123817 -0.08534496\n",
            "  0.06485139  0.01273775 -0.20079288  0.16803257  0.02814531 -0.28115404\n",
            "  0.07607456  0.10435148 -0.13555425]\n",
            "[-0.09653661  0.04378233  0.04923175 -0.11421958  0.143312    0.21880256\n",
            " -0.24282628 -0.05610583  0.08338679  0.030905    0.15245214  0.09851121\n",
            " -0.04676191  0.14511111  0.16804673 -0.21830975 -0.1073394  -0.00358672\n",
            "  0.05598914  0.12488938  0.04895494 -0.02802723  0.06669949  0.05327149\n",
            " -0.19382885 -0.16858195 -0.10828199]\n"
          ],
          "name": "stdout"
        }
      ]
    },
    {
      "cell_type": "code",
      "metadata": {
        "id": "XGncqqAmxs-1",
        "colab_type": "code",
        "colab": {}
      },
      "source": [
        "cos = nn.CosineSimilarity()"
      ],
      "execution_count": 0,
      "outputs": []
    },
    {
      "cell_type": "code",
      "metadata": {
        "id": "4-Imt47Ixs5J",
        "colab_type": "code",
        "outputId": "4989ae72-958c-498a-fa6b-4820402f1771",
        "colab": {
          "base_uri": "https://localhost:8080/",
          "height": 54
        }
      },
      "source": [
        "a = torch.from_numpy(np.reshape(X[0],(1,X[0].size)))\n",
        "b = torch.from_numpy(np.reshape(X[5],(1,X[5].size)))\n",
        "c = torch.from_numpy(np.reshape(X[21],(1,X[5].size)))\n",
        "print(cos(a,b))\n",
        "print(cos(a,c))"
      ],
      "execution_count": 21,
      "outputs": [
        {
          "output_type": "stream",
          "text": [
            "tensor([-0.1913])\n",
            "tensor([-0.3381])\n"
          ],
          "name": "stdout"
        }
      ]
    },
    {
      "cell_type": "code",
      "metadata": {
        "id": "27OY3vn3xvCv",
        "colab_type": "code",
        "outputId": "613987bf-1d27-47a7-cb33-e65ddd46afe9",
        "colab": {
          "base_uri": "https://localhost:8080/",
          "height": 55
        }
      },
      "source": [
        "over = []\n",
        "correlation = []\n",
        "for i in ress[max_dis_ind]:\n",
        "  for j in ress[max_dis_ind]:\n",
        "    if i!=j and ress[max_dis_ind][i]==ress[max_dis_ind][j]:\n",
        "      s = set((i,j))\n",
        "      if s not in over:\n",
        "        over.append(s)\n",
        "        a = torch.from_numpy(np.reshape(X[i],(1,X[i].size)))\n",
        "        b = torch.from_numpy(np.reshape(X[j],(1,X[j].size)))\n",
        "        #print (i,j,cos(a,b))\n",
        "        correlation.append([i,j,cos(a,b)])\n",
        "\n",
        "print(over)"
      ],
      "execution_count": 36,
      "outputs": [
        {
          "output_type": "stream",
          "text": [
            "[{0, 12}, {11, 12}, {9, 12}, {2, 4}, {2, 7}, {2, 5}, {2, 6}, {8, 2}, {4, 7}, {4, 5}, {4, 6}, {8, 4}, {5, 7}, {6, 7}, {8, 7}, {0, 11}, {0, 9}, {5, 6}, {8, 5}, {9, 11}, {8, 6}, {1, 10}]\n"
          ],
          "name": "stdout"
        }
      ]
    },
    {
      "cell_type": "code",
      "metadata": {
        "id": "qlOauLFJxu9T",
        "colab_type": "code",
        "outputId": "9f0dc61c-5b5c-45cb-f3aa-d7f37bf03739",
        "colab": {
          "base_uri": "https://localhost:8080/",
          "height": 201
        }
      },
      "source": [
        "#print(correlation)\n",
        "threshold = 0.5\n",
        "for item in correlation:\n",
        "  if item[2]>=threshold:\n",
        "    print(item)\n"
      ],
      "execution_count": 37,
      "outputs": [
        {
          "output_type": "stream",
          "text": [
            "[12, 11, tensor([0.6033])]\n",
            "[12, 9, tensor([0.5189])]\n",
            "[2, 5, tensor([0.5003])]\n",
            "[4, 5, tensor([0.6839])]\n",
            "[4, 6, tensor([0.7688])]\n",
            "[4, 8, tensor([0.6163])]\n",
            "[7, 5, tensor([0.5076])]\n",
            "[7, 8, tensor([0.5177])]\n",
            "[5, 8, tensor([0.5717])]\n",
            "[6, 8, tensor([0.5772])]\n"
          ],
          "name": "stdout"
        }
      ]
    }
  ]
}