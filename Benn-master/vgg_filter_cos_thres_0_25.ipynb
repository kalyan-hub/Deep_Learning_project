{
  "nbformat": 4,
  "nbformat_minor": 0,
  "metadata": {
    "colab": {
      "name": "vgg-filter-cos-thres--0_25.ipynb",
      "provenance": [],
      "collapsed_sections": [],
      "mount_file_id": "1e_9HyoNEHF__OHd5f3YUeBh6UnQqJT4I",
      "authorship_tag": "ABX9TyPXMH9polGfkfdIg2cvzkVS",
      "include_colab_link": true
    },
    "kernelspec": {
      "name": "python3",
      "display_name": "Python 3"
    },
    "accelerator": "GPU"
  },
  "cells": [
    {
      "cell_type": "markdown",
      "metadata": {
        "id": "view-in-github",
        "colab_type": "text"
      },
      "source": [
        "<a href=\"https://colab.research.google.com/github/jgdshkovi/Benn/blob/master/vgg_filter_cos_thres_0_25.ipynb\" target=\"_parent\"><img src=\"https://colab.research.google.com/assets/colab-badge.svg\" alt=\"Open In Colab\"/></a>"
      ]
    },
    {
      "cell_type": "code",
      "metadata": {
        "id": "YUh9Zj8KOgaP",
        "colab_type": "code",
        "outputId": "c9109fea-8727-485e-dfcf-2e7a0ba66594",
        "colab": {
          "base_uri": "https://localhost:8080/",
          "height": 34
        }
      },
      "source": [
        "%cd /content/drive/My Drive/Z/filter_pruning"
      ],
      "execution_count": 0,
      "outputs": [
        {
          "output_type": "stream",
          "text": [
            "/content/drive/My Drive/Z/filter_pruning\n"
          ],
          "name": "stdout"
        }
      ]
    },
    {
      "cell_type": "code",
      "metadata": {
        "id": "OXiovxDcOqo6",
        "colab_type": "code",
        "colab": {}
      },
      "source": [
        "import argparse\n",
        "import numpy as np\n",
        "from scipy.spatial import distance\n",
        "import os\n",
        " \n",
        "import math\n",
        "import matplotlib\n",
        "import matplotlib.pyplot as plt\n",
        "from sklearn.cluster import KMeans\n",
        "import warnings\n",
        "warnings.filterwarnings('ignore')\n",
        " \n",
        "import torch\n",
        "import torch.nn as nn\n",
        "from torch.autograd import Variable\n",
        "from torchvision import datasets, transforms\n",
        " \n",
        "from models import *\n",
        "import spherical_kmeans_old as skm\n",
        " \n",
        "cos = nn.CosineSimilarity()"
      ],
      "execution_count": 0,
      "outputs": []
    },
    {
      "cell_type": "code",
      "metadata": {
        "id": "hzC-LtjJOql1",
        "colab_type": "code",
        "colab": {}
      },
      "source": [
        "test_batch_size = 256\n",
        "dataset = 'cifar10'\n",
        "cfg = [32, 64, 'M', 128, 128, 'M', 256, 256, 256, 'M', 256, 256, 256, 'M', 256, 256, 256]\n",
        "filtered_cfg = [16, 32, 'M', 64, 64, 'M', 128, 128, 128, 'M', 128, 128, 128, 'M', 128, 128, 128]\n",
        "cuda = True"
      ],
      "execution_count": 0,
      "outputs": []
    },
    {
      "cell_type": "code",
      "metadata": {
        "id": "OSThDpoZOqit",
        "colab_type": "code",
        "colab": {}
      },
      "source": [
        "model = torch.load('Main_logs/model_best.pth.tar')\n",
        "checkpoint = torch.load('Main_logs/checkpoint.pth.tar')"
      ],
      "execution_count": 0,
      "outputs": []
    },
    {
      "cell_type": "code",
      "metadata": {
        "id": "vSOGFI1VOqg4",
        "colab_type": "code",
        "outputId": "3096005e-b050-4f80-c8d1-c8f5944eeffe",
        "colab": {
          "base_uri": "https://localhost:8080/",
          "height": 34
        }
      },
      "source": [
        "model = vgg(dataset='cifar10', depth=16)\n",
        "model.load_state_dict(checkpoint['state_dict'])"
      ],
      "execution_count": 0,
      "outputs": [
        {
          "output_type": "execute_result",
          "data": {
            "text/plain": [
              "<All keys matched successfully>"
            ]
          },
          "metadata": {
            "tags": []
          },
          "execution_count": 8
        }
      ]
    },
    {
      "cell_type": "code",
      "metadata": {
        "id": "4FcG3SiRbtle",
        "colab_type": "code",
        "outputId": "df83892a-84fc-457e-9522-d47cbec8afd4",
        "colab": {
          "base_uri": "https://localhost:8080/",
          "height": 34
        }
      },
      "source": [
        "checkpoint.keys()\n",
        "checkpoint.get('best_prec1')"
      ],
      "execution_count": 0,
      "outputs": [
        {
          "output_type": "execute_result",
          "data": {
            "text/plain": [
              "tensor(0.9363)"
            ]
          },
          "metadata": {
            "tags": []
          },
          "execution_count": 9
        }
      ]
    },
    {
      "cell_type": "code",
      "metadata": {
        "id": "CPTesXsVOqfQ",
        "colab_type": "code",
        "colab": {}
      },
      "source": [
        "def test(model):\n",
        "    kwargs = {'num_workers': 1, 'pin_memory': True} if True else {}\n",
        "    if dataset == 'cifar10':\n",
        "        test_loader = torch.utils.data.DataLoader(\n",
        "            datasets.CIFAR10('./data.cifar10', train=False, transform=transforms.Compose([\n",
        "                transforms.ToTensor(),\n",
        "                transforms.Normalize((0.4914, 0.4822, 0.4465), (0.2023, 0.1994, 0.2010))])),\n",
        "            batch_size=test_batch_size, shuffle=True, **kwargs)\n",
        "    elif dataset == 'cifar100':\n",
        "        test_loader = torch.utils.data.DataLoader(\n",
        "            datasets.CIFAR100('./data.cifar100', train=False, transform=transforms.Compose([\n",
        "                transforms.ToTensor(),\n",
        "                transforms.Normalize((0.4914, 0.4822, 0.4465), (0.2023, 0.1994, 0.2010))])),\n",
        "            batch_size=test_batch_size, shuffle=True, **kwargs)\n",
        "    else:\n",
        "        raise ValueError(\"No valid dataset is given.\")\n",
        "    model.eval()\n",
        "    correct = 0\n",
        "    for data, target in test_loader:\n",
        "        if cuda:\n",
        "            data, target = data.cuda(), target.cuda()\n",
        "        data, target = Variable(data, volatile=True), Variable(target)\n",
        "        output = model(data)\n",
        "        pred = output.data.max(1, keepdim=True)[1] # get the index of the max log-probability\n",
        "        correct += pred.eq(target.data.view_as(pred)).cpu().sum()\n",
        " \n",
        "    print('\\nTest set: Accuracy: {}/{} ({:.1f}%)\\n'.format(\n",
        "        correct, len(test_loader.dataset), 100. * correct / len(test_loader.dataset)))\n",
        "    return correct / float(len(test_loader.dataset))"
      ],
      "execution_count": 0,
      "outputs": []
    },
    {
      "cell_type": "code",
      "metadata": {
        "id": "4rFwdhr1Oqdr",
        "colab_type": "code",
        "colab": {}
      },
      "source": [
        "from collections import defaultdict\n",
        "def list_duplicates(seq):\n",
        "    tally = defaultdict(list)\n",
        "    for i,item in enumerate(seq):\n",
        "        tally[item].append(i)\n",
        "    return ((key,locs) for key,locs in tally.items() if len(locs)>1)\n",
        " \n",
        " \n",
        "def return_mask(wts, labels):\n",
        "    modsource = labels.copy()\n",
        "    #print(wts)\n",
        "    #print(labels)\n",
        "    for dup in sorted(list_duplicates(labels)):\n",
        "        #print(dup)\n",
        "        lis = dup[1][1:]\n",
        "        a = torch.from_numpy(np.reshape(wts[dup[1][0]],(1,wts[dup[1][0]].size)))\n",
        "        #a = wts[dup[1][0]]\n",
        "        for i in lis:\n",
        "            b = torch.from_numpy(np.reshape(wts[i],(1,wts[i].size)))\n",
        "            #print(i)\n",
        "            simi = (cos(a,b))\n",
        "            dis = distance.euclidean(a,b)\n",
        "            #print(dis)\n",
        "            #print(simi)\n",
        "            if simi>0.25:\n",
        "              #print('....................')\n",
        "              modsource[i] = -1\n",
        "    #print((modsource))\n",
        "    mask = []\n",
        "    for el in modsource:\n",
        "        if el!=-1:\n",
        "            mask.append(1)\n",
        "        else:\n",
        "            mask.append(0)\n",
        "    #print((mask))\n",
        "    return mask\n",
        " \n",
        "def calc_distance(x1, y1, a, b, c):\n",
        "  d = abs((a * x1 + b * y1 + c)) / (math.sqrt(a * a + b * b))\n",
        "  return d\n",
        " \n",
        "ress = []\n",
        "z1 = []\n",
        "z2 = []\n",
        "def optimumk(X, shp):\n",
        "  global ress,z1,z2\n",
        "  z1 = z2 = []\n",
        "  ress = []\n",
        "  K = list(range(1,shp//2+1))\n",
        "  K.append(shp)\n",
        "  dist_points_from_cluster_center = []\n",
        "  for no_of_clusters in K:\n",
        "    res = skm.spherical_k_means(X,n_clusters=no_of_clusters,random_state=10)\n",
        "    ress.append(res[1])\n",
        "    dist_points_from_cluster_center.append(res[2])\n",
        "    z1.append(no_of_clusters)\n",
        " \n",
        "  a = dist_points_from_cluster_center[0] - dist_points_from_cluster_center[shp//2]\n",
        "  b = K[shp//2] - K[0]\n",
        "  c1 = K[0] * dist_points_from_cluster_center[shp//2]\n",
        "  c2 = K[shp//2] * dist_points_from_cluster_center[0]\n",
        "  c = c1 - c2\n",
        "  #print(a,b,c)\n",
        "  distance_of_points_from_line = []\n",
        "  for k in range(shp//2+1):\n",
        "    distance_of_points_from_line.append(\n",
        "        calc_distance(K[k], dist_points_from_cluster_center[k], a, b, c))\n",
        "  \n",
        "  optk = distance_of_points_from_line.index(max(distance_of_points_from_line))\n",
        "  z2 = dist_points_from_cluster_center\n",
        "  #print(ress)\n",
        "  #print(dist_points_from_cluster_center)\n",
        "  return optk\n",
        " \n",
        "def optk(X, shp):\n",
        "  global ress,z1,z2\n",
        "  z1 = z2 = []\n",
        "  ress = []\n",
        "  maxdis_k = 0\n",
        "  iterations = 20*shp//100\n",
        "  if iterations>50:\n",
        "    iterations=50\n",
        "  count = 1\n",
        " \n",
        "  dist_points_from_cluster_center = [0]\n",
        "  distance_of_points_from_line = [0]\n",
        " \n",
        "  spt = skm.spherical_k_means(X,n_clusters=1,random_state=10)\n",
        "  ept = skm.spherical_k_means(X,n_clusters=shp,random_state=10)\n",
        " \n",
        "  a = spt[2] - ept[2]\n",
        "  b = shp - 1\n",
        "  c1 = 1 * ept[2]\n",
        "  c2 = shp * spt[2]\n",
        "  c = c1 - c2\n",
        "  #print(a,b,c)\n",
        "  z1.append(0)\n",
        "  ress.append(spt[1])\n",
        "  dist_points_from_cluster_center.append(spt[2])\n",
        "  distance_of_points_from_line.append(\n",
        "        calc_distance(1, dist_points_from_cluster_center[1], a, b, c))\n",
        "  z1.append(1)\n",
        " \n",
        "  for k in range(2,shp):\n",
        "    if count<iterations:\n",
        "      res = skm.spherical_k_means(X,n_clusters=k,random_state=10)\n",
        "      ress.append(res[1])\n",
        "      dist_points_from_cluster_center.append(res[2])\n",
        "      dis = calc_distance(k, dist_points_from_cluster_center[k], a, b, c)\n",
        "      distance_of_points_from_line.append(dis)\n",
        "      z1.append(k)\n",
        "      if dis > distance_of_points_from_line[maxdis_k]:\n",
        "        maxdis_k = k\n",
        "        count = 0\n",
        "      else:\n",
        "        count += 1\n",
        "    else:\n",
        "      break\n",
        " \n",
        "  ress.append(ept[1])\n",
        "  dist_points_from_cluster_center.append(ept[2])\n",
        "  distance_of_points_from_line.append(\n",
        "        calc_distance(shp, dist_points_from_cluster_center[-1], a, b, c))\n",
        "  z1.append(shp)\n",
        "  z2 = dist_points_from_cluster_center\n",
        "  #plt.plot(list(range(1,shp+1)),dist_points_from_cluster_center)\n",
        "  return maxdis_k\n",
        " \n",
        "def return_cluster_labels(feat_wts, shp):  #no_of_clus):\n",
        "  #res = skm.spherical_k_means(feat_wts,n_clusters=no_of_clus,random_state=10)\n",
        "  #return res[1]\n",
        " \n",
        "  k = optk(feat_wts, shp)\n",
        "  print(k)\n",
        "  #print(ress[k])\n",
        "  #print(ress[10])\n",
        "  return ress[k] #= skm.spherical_k_means(feat_wts,n_clusters=k,random_state=10)"
      ],
      "execution_count": 0,
      "outputs": []
    },
    {
      "cell_type": "code",
      "metadata": {
        "id": "MuzvQBHuDq-k",
        "colab_type": "code",
        "colab": {}
      },
      "source": [
        "plt.plot(z1[1:],z2[1:])\n",
        "print(z2)"
      ],
      "execution_count": 0,
      "outputs": []
    },
    {
      "cell_type": "code",
      "metadata": {
        "id": "_VcLZ4w99jVy",
        "colab_type": "code",
        "colab": {}
      },
      "source": [
        "plt.plot(z1[1:],z2[1:])\n",
        "print(z2)"
      ],
      "execution_count": 0,
      "outputs": []
    },
    {
      "cell_type": "code",
      "metadata": {
        "id": "zd1dEYfoOqZo",
        "colab_type": "code",
        "outputId": "2ee899a6-6046-43c4-9059-d404dbe53d75",
        "colab": {
          "base_uri": "https://localhost:8080/",
          "height": 1000
        }
      },
      "source": [
        "cos_cfg = []\n",
        "cfg_mask = []\n",
        "layer_id = 0\n",
        "for m in model.modules():\n",
        "  if isinstance(m , nn.Conv2d):\n",
        "    shape = m.weight.data.shape\n",
        "    print(shape)\n",
        "    reshaped_tensor = m.weight.data.clone().numpy().reshape(shape[0] , shape[1]*shape[2]*shape[3])\n",
        " \n",
        "    labels = return_cluster_labels(reshaped_tensor,shape[0])  #filtered_cfg[layer_id])\n",
        "    #print(labels)\n",
        "    mask = return_mask(reshaped_tensor,labels)\n",
        "    #print(mask)\n",
        "    print(sum(mask))\n",
        "    cos_cfg.append(sum(mask))\n",
        "    cfg_mask.append(torch.tensor(mask))\n",
        "    layer_id += 1\n",
        "    \n",
        "    plt.plot(z1[1:],z2[1:])\n",
        "    plt.show()\n",
        "    #break\n",
        "  elif isinstance(m, nn.MaxPool2d):\n",
        "    layer_id += 1\n",
        "    cos_cfg.append('M')\n",
        "  #if layer_id>3:\n",
        "    #break\n",
        "print(cos_cfg)"
      ],
      "execution_count": 0,
      "outputs": [
        {
          "output_type": "stream",
          "text": [
            "torch.Size([64, 3, 3, 3])\n",
            "16\n",
            "39\n"
          ],
          "name": "stdout"
        },
        {
          "output_type": "display_data",
          "data": {
            "image/png": "[encoded data removed]",
            "text/plain": [
              "<Figure size 432x288 with 1 Axes>"
            ]
          },
          "metadata": {
            "tags": [],
            "needs_background": "light"
          }
        },
        {
          "output_type": "stream",
          "text": [
            "torch.Size([64, 64, 3, 3])\n",
            "14\n",
            "47\n"
          ],
          "name": "stdout"
        },
        {
          "output_type": "display_data",
          "data": {
            "image/png": "[encoded data removed]",
            "text/plain": [
              "<Figure size 432x288 with 1 Axes>"
            ]
          },
          "metadata": {
            "tags": [],
            "needs_background": "light"
          }
        },
        {
          "output_type": "stream",
          "text": [
            "torch.Size([128, 64, 3, 3])\n",
            "23\n",
            "83\n"
          ],
          "name": "stdout"
        },
        {
          "output_type": "display_data",
          "data": {
            "image/png": "[encoded data removed]",
            "text/plain": [
              "<Figure size 432x288 with 1 Axes>"
            ]
          },
          "metadata": {
            "tags": [],
            "needs_background": "light"
          }
        },
        {
          "output_type": "stream",
          "text": [
            "torch.Size([128, 128, 3, 3])\n",
            "23\n",
            "121\n"
          ],
          "name": "stdout"
        },
        {
          "output_type": "display_data",
          "data": {
            "image/png": "[encoded data removed]",
            "text/plain": [
              "<Figure size 432x288 with 1 Axes>"
            ]
          },
          "metadata": {
            "tags": [],
            "needs_background": "light"
          }
        },
        {
          "output_type": "stream",
          "text": [
            "torch.Size([256, 128, 3, 3])\n",
            "33\n",
            "249\n"
          ],
          "name": "stdout"
        },
        {
          "output_type": "display_data",
          "data": {
            "image/png": "[encoded data removed]",
            "text/plain": [
              "<Figure size 432x288 with 1 Axes>"
            ]
          },
          "metadata": {
            "tags": [],
            "needs_background": "light"
          }
        },
        {
          "output_type": "stream",
          "text": [
            "torch.Size([256, 256, 3, 3])\n",
            "39\n",
            "243\n"
          ],
          "name": "stdout"
        },
        {
          "output_type": "display_data",
          "data": {
            "image/png": "[encoded data removed]",
            "text/plain": [
              "<Figure size 432x288 with 1 Axes>"
            ]
          },
          "metadata": {
            "tags": [],
            "needs_background": "light"
          }
        },
        {
          "output_type": "stream",
          "text": [
            "torch.Size([256, 256, 3, 3])\n",
            "52\n",
            "231\n"
          ],
          "name": "stdout"
        },
        {
          "output_type": "display_data",
          "data": {
            "image/png": "[encoded data removed]",
            "text/plain": [
              "<Figure size 432x288 with 1 Axes>"
            ]
          },
          "metadata": {
            "tags": [],
            "needs_background": "light"
          }
        },
        {
          "output_type": "stream",
          "text": [
            "torch.Size([512, 256, 3, 3])\n",
            "176\n",
            "361\n"
          ],
          "name": "stdout"
        },
        {
          "output_type": "display_data",
          "data": {
            "image/png": "[encoded data removed]",
            "text/plain": [
              "<Figure size 432x288 with 1 Axes>"
            ]
          },
          "metadata": {
            "tags": [],
            "needs_background": "light"
          }
        },
        {
          "output_type": "stream",
          "text": [
            "torch.Size([512, 512, 3, 3])\n",
            "154\n",
            "280\n"
          ],
          "name": "stdout"
        },
        {
          "output_type": "display_data",
          "data": {
            "image/png": "[encoded data removed]",
            "text/plain": [
              "<Figure size 432x288 with 1 Axes>"
            ]
          },
          "metadata": {
            "tags": [],
            "needs_background": "light"
          }
        },
        {
          "output_type": "stream",
          "text": [
            "torch.Size([512, 512, 3, 3])\n",
            "117\n",
            "329\n"
          ],
          "name": "stdout"
        },
        {
          "output_type": "display_data",
          "data": {
            "image/png": "[encoded data removed]",
            "text/plain": [
              "<Figure size 432x288 with 1 Axes>"
            ]
          },
          "metadata": {
            "tags": [],
            "needs_background": "light"
          }
        },
        {
          "output_type": "stream",
          "text": [
            "torch.Size([512, 512, 3, 3])\n",
            "101\n",
            "168\n"
          ],
          "name": "stdout"
        },
        {
          "output_type": "display_data",
          "data": {
            "image/png": "[encoded data removed]",
            "text/plain": [
              "<Figure size 432x288 with 1 Axes>"
            ]
          },
          "metadata": {
            "tags": [],
            "needs_background": "light"
          }
        },
        {
          "output_type": "stream",
          "text": [
            "torch.Size([512, 512, 3, 3])\n",
            "102\n",
            "154\n"
          ],
          "name": "stdout"
        },
        {
          "output_type": "display_data",
          "data": {
            "image/png": "[encoded data removed]",
            "text/plain": [
              "<Figure size 432x288 with 1 Axes>"
            ]
          },
          "metadata": {
            "tags": [],
            "needs_background": "light"
          }
        },
        {
          "output_type": "stream",
          "text": [
            "torch.Size([512, 512, 3, 3])\n",
            "94\n",
            "134\n"
          ],
          "name": "stdout"
        },
        {
          "output_type": "display_data",
          "data": {
            "image/png": "[encoded data removed]",
            "text/plain": [
              "<Figure size 432x288 with 1 Axes>"
            ]
          },
          "metadata": {
            "tags": [],
            "needs_background": "light"
          }
        },
        {
          "output_type": "stream",
          "text": [
            "[39, 47, 'M', 83, 121, 'M', 249, 243, 231, 'M', 361, 280, 329, 'M', 168, 154, 134]\n"
          ],
          "name": "stdout"
        }
      ]
    },
    {
      "cell_type": "code",
      "metadata": {
        "id": "LstRAyI-gsiO",
        "colab_type": "code",
        "colab": {}
      },
      "source": [
        "[24, 41, 'M', 83, 121, 'M', 251, 235, 229, 'M', 169, 126, 118, 'M', 53, 57, 60] --- thres=0.25"
      ],
      "execution_count": 0,
      "outputs": []
    },
    {
      "cell_type": "code",
      "metadata": {
        "id": "NDtQEm3LojJj",
        "colab_type": "code",
        "outputId": "2247762e-3939-422e-dbe6-c790c25eeb09",
        "colab": {
          "base_uri": "https://localhost:8080/",
          "height": 54
        }
      },
      "source": [
        "print(cos_cfg)"
      ],
      "execution_count": 0,
      "outputs": [
        {
          "output_type": "stream",
          "text": [
            "[39, 47, 'M', 83, 121, 'M', 249, 243, 231, 'M', 361, 280, 329, 'M', 168, 154, 134]\n"
          ],
          "name": "stdout"
        }
      ]
    },
    {
      "cell_type": "code",
      "metadata": {
        "id": "MD4tz0ECR5aP",
        "colab_type": "code",
        "colab": {}
      },
      "source": [
        "cos = nn.CosineSimilarity()"
      ],
      "execution_count": 0,
      "outputs": []
    },
    {
      "cell_type": "code",
      "metadata": {
        "id": "jXNdDVlvRtOl",
        "colab_type": "code",
        "colab": {}
      },
      "source": [
        "a = torch.from_numpy(np.reshape(X[0],(1,X[0].size)))\n",
        "b = torch.from_numpy(np.reshape(X[5],(1,X[5].size)))\n"
      ],
      "execution_count": 0,
      "outputs": []
    },
    {
      "cell_type": "code",
      "metadata": {
        "id": "_YLbuGZ3OqWJ",
        "colab_type": "code",
        "outputId": "a6fb45c0-b5ab-4139-ac36-60040bf01304",
        "colab": {
          "base_uri": "https://localhost:8080/",
          "height": 242
        }
      },
      "source": [
        "newmodel = vgg(dataset = 'cifar10' ,cfg=cos_cfg)\n",
        "newmodel.cuda()\n",
        " \n",
        "start_mask = torch.ones(3)\n",
        "layer_id_in_cfg = 0\n",
        "end_mask = cfg_mask[layer_id_in_cfg]\n",
        "for [m0, m1] in zip(model.modules(), newmodel.modules()):\n",
        "    if isinstance(m0, nn.BatchNorm2d):\n",
        "        idx1 = np.squeeze(np.argwhere(np.asarray(end_mask.cpu().numpy())))\n",
        "        if idx1.size == 1:\n",
        "            idx1 = np.resize(idx1,(1,))\n",
        "        m1.weight.data = m0.weight.data[idx1.tolist()].clone()\n",
        "        m1.bias.data = m0.bias.data[idx1.tolist()].clone()\n",
        "        m1.running_mean = m0.running_mean[idx1.tolist()].clone()\n",
        "        m1.running_var = m0.running_var[idx1.tolist()].clone()\n",
        "        layer_id_in_cfg += 1\n",
        "        start_mask = end_mask\n",
        "        if layer_id_in_cfg < len(cfg_mask):  # do not change in Final FC\n",
        "            end_mask = cfg_mask[layer_id_in_cfg]\n",
        "    elif isinstance(m0, nn.Conv2d):\n",
        "        idx0 = np.squeeze(np.argwhere(np.asarray(start_mask.cpu().numpy())))\n",
        "        idx1 = np.squeeze(np.argwhere(np.asarray(end_mask.cpu().numpy())))\n",
        "        print('In shape: {:d}, Out shape {:d}.'.format(idx0.size, idx1.size))\n",
        "        if idx0.size == 1:\n",
        "            idx0 = np.resize(idx0, (1,))\n",
        "        if idx1.size == 1:\n",
        "            idx1 = np.resize(idx1, (1,))\n",
        "        w1 = m0.weight.data[:, idx0.tolist(), :, :].clone()\n",
        "        w1 = w1[idx1.tolist(), :, :, :].clone()\n",
        "        m1.weight.data = w1.clone()\n",
        "    elif isinstance(m0, nn.Linear):\n",
        "        if layer_id_in_cfg == len(cfg_mask):\n",
        "            idx0 = np.squeeze(np.argwhere(np.asarray(cfg_mask[-1].cpu().numpy())))\n",
        "            if idx0.size == 1:\n",
        "                idx0 = np.resize(idx0, (1,))\n",
        "            m1.weight.data = m0.weight.data[:, idx0].clone()\n",
        "            m1.bias.data = m0.bias.data.clone()\n",
        "            layer_id_in_cfg += 1\n",
        "            continue\n",
        "        m1.weight.data = m0.weight.data.clone()\n",
        "        m1.bias.data = m0.bias.data.clone()\n",
        "    elif isinstance(m0, nn.BatchNorm1d):\n",
        "        m1.weight.data = m0.weight.data.clone()\n",
        "        m1.bias.data = m0.bias.data.clone()\n",
        "        m1.running_mean = m0.running_mean.clone()\n",
        "        m1.running_var = m0.running_var.clone()"
      ],
      "execution_count": 0,
      "outputs": [
        {
          "output_type": "stream",
          "text": [
            "In shape: 3, Out shape 39.\n",
            "In shape: 39, Out shape 47.\n",
            "In shape: 47, Out shape 83.\n",
            "In shape: 83, Out shape 121.\n",
            "In shape: 121, Out shape 249.\n",
            "In shape: 249, Out shape 243.\n",
            "In shape: 243, Out shape 231.\n",
            "In shape: 231, Out shape 361.\n",
            "In shape: 361, Out shape 280.\n",
            "In shape: 280, Out shape 329.\n",
            "In shape: 329, Out shape 168.\n",
            "In shape: 168, Out shape 154.\n",
            "In shape: 154, Out shape 134.\n"
          ],
          "name": "stdout"
        }
      ]
    },
    {
      "cell_type": "code",
      "metadata": {
        "id": "PTqxhffNOqSi",
        "colab_type": "code",
        "outputId": "5ce75f3d-b56a-4501-d34e-6d0f7f9db1f4",
        "colab": {
          "base_uri": "https://localhost:8080/",
          "height": 1000
        }
      },
      "source": [
        "torch.save({'cfg': cos_cfg, 'state_dict': newmodel.state_dict()},'Finallogs/pruned.pth.tar')\n",
        "print(newmodel)\n",
        "model = newmodel\n",
        "model.cuda()\n",
        "acc = test(model)\n",
        " \n",
        "num_parameters = sum([param.nelement() for param in newmodel.parameters()])\n",
        "with open( \"Finallogs/prune.txt\", \"w\") as fp:\n",
        "    fp.write(\"Number of parameters: \\n\"+str(num_parameters)+\"\\n\")\n",
        "    fp.write(\"Test accuracy: \\n\"+str(acc)+\"\\n\")"
      ],
      "execution_count": 0,
      "outputs": [
        {
          "output_type": "stream",
          "text": [
            "vgg(\n",
            "  (feature): Sequential(\n",
            "    (0): Conv2d(3, 39, kernel_size=(3, 3), stride=(1, 1), padding=(1, 1), bias=False)\n",
            "    (1): BatchNorm2d(39, eps=1e-05, momentum=0.1, affine=True, track_running_stats=True)\n",
            "    (2): ReLU(inplace=True)\n",
            "    (3): Conv2d(39, 47, kernel_size=(3, 3), stride=(1, 1), padding=(1, 1), bias=False)\n",
            "    (4): BatchNorm2d(47, eps=1e-05, momentum=0.1, affine=True, track_running_stats=True)\n",
            "    (5): ReLU(inplace=True)\n",
            "    (6): MaxPool2d(kernel_size=2, stride=2, padding=0, dilation=1, ceil_mode=False)\n",
            "    (7): Conv2d(47, 83, kernel_size=(3, 3), stride=(1, 1), padding=(1, 1), bias=False)\n",
            "    (8): BatchNorm2d(83, eps=1e-05, momentum=0.1, affine=True, track_running_stats=True)\n",
            "    (9): ReLU(inplace=True)\n",
            "    (10): Conv2d(83, 121, kernel_size=(3, 3), stride=(1, 1), padding=(1, 1), bias=False)\n",
            "    (11): BatchNorm2d(121, eps=1e-05, momentum=0.1, affine=True, track_running_stats=True)\n",
            "    (12): ReLU(inplace=True)\n",
            "    (13): MaxPool2d(kernel_size=2, stride=2, padding=0, dilation=1, ceil_mode=False)\n",
            "    (14): Conv2d(121, 249, kernel_size=(3, 3), stride=(1, 1), padding=(1, 1), bias=False)\n",
            "    (15): BatchNorm2d(249, eps=1e-05, momentum=0.1, affine=True, track_running_stats=True)\n",
            "    (16): ReLU(inplace=True)\n",
            "    (17): Conv2d(249, 243, kernel_size=(3, 3), stride=(1, 1), padding=(1, 1), bias=False)\n",
            "    (18): BatchNorm2d(243, eps=1e-05, momentum=0.1, affine=True, track_running_stats=True)\n",
            "    (19): ReLU(inplace=True)\n",
            "    (20): Conv2d(243, 231, kernel_size=(3, 3), stride=(1, 1), padding=(1, 1), bias=False)\n",
            "    (21): BatchNorm2d(231, eps=1e-05, momentum=0.1, affine=True, track_running_stats=True)\n",
            "    (22): ReLU(inplace=True)\n",
            "    (23): MaxPool2d(kernel_size=2, stride=2, padding=0, dilation=1, ceil_mode=False)\n",
            "    (24): Conv2d(231, 361, kernel_size=(3, 3), stride=(1, 1), padding=(1, 1), bias=False)\n",
            "    (25): BatchNorm2d(361, eps=1e-05, momentum=0.1, affine=True, track_running_stats=True)\n",
            "    (26): ReLU(inplace=True)\n",
            "    (27): Conv2d(361, 280, kernel_size=(3, 3), stride=(1, 1), padding=(1, 1), bias=False)\n",
            "    (28): BatchNorm2d(280, eps=1e-05, momentum=0.1, affine=True, track_running_stats=True)\n",
            "    (29): ReLU(inplace=True)\n",
            "    (30): Conv2d(280, 329, kernel_size=(3, 3), stride=(1, 1), padding=(1, 1), bias=False)\n",
            "    (31): BatchNorm2d(329, eps=1e-05, momentum=0.1, affine=True, track_running_stats=True)\n",
            "    (32): ReLU(inplace=True)\n",
            "    (33): MaxPool2d(kernel_size=2, stride=2, padding=0, dilation=1, ceil_mode=False)\n",
            "    (34): Conv2d(329, 168, kernel_size=(3, 3), stride=(1, 1), padding=(1, 1), bias=False)\n",
            "    (35): BatchNorm2d(168, eps=1e-05, momentum=0.1, affine=True, track_running_stats=True)\n",
            "    (36): ReLU(inplace=True)\n",
            "    (37): Conv2d(168, 154, kernel_size=(3, 3), stride=(1, 1), padding=(1, 1), bias=False)\n",
            "    (38): BatchNorm2d(154, eps=1e-05, momentum=0.1, affine=True, track_running_stats=True)\n",
            "    (39): ReLU(inplace=True)\n",
            "    (40): Conv2d(154, 134, kernel_size=(3, 3), stride=(1, 1), padding=(1, 1), bias=False)\n",
            "    (41): BatchNorm2d(134, eps=1e-05, momentum=0.1, affine=True, track_running_stats=True)\n",
            "    (42): ReLU(inplace=True)\n",
            "  )\n",
            "  (classifier): Sequential(\n",
            "    (0): Linear(in_features=134, out_features=512, bias=True)\n",
            "    (1): BatchNorm1d(512, eps=1e-05, momentum=0.1, affine=True, track_running_stats=True)\n",
            "    (2): ReLU(inplace=True)\n",
            "    (3): Linear(in_features=512, out_features=10, bias=True)\n",
            "  )\n",
            ")\n",
            "\n",
            "Test set: Accuracy: 1131/10000 (11.3%)\n",
            "\n"
          ],
          "name": "stdout"
        }
      ]
    },
    {
      "cell_type": "code",
      "metadata": {
        "id": "HDCzLOy_OqPK",
        "colab_type": "code",
        "outputId": "7e4a9a37-5c43-4a9b-a698-661c0735561e",
        "colab": {
          "base_uri": "https://localhost:8080/",
          "height": 1000
        }
      },
      "source": [
        "!python main_finetune.py --refine Finallogs/pruned.pth.tar --dataset cifar10 --epochs 10 --save Finallogs/"
      ],
      "execution_count": 0,
      "outputs": [
        {
          "output_type": "stream",
          "text": [
            "Files already downloaded and verified\n",
            "Train Epoch: 0 [0/50000 (0.0%)]\tLoss: 0.706369\n",
            "Train Epoch: 0 [6400/50000 (12.8%)]\tLoss: 0.166254\n",
            "Train Epoch: 0 [12800/50000 (25.6%)]\tLoss: 0.086008\n",
            "Train Epoch: 0 [19200/50000 (38.4%)]\tLoss: 0.048314\n",
            "Train Epoch: 0 [25600/50000 (51.2%)]\tLoss: 0.136566\n",
            "Train Epoch: 0 [32000/50000 (63.9%)]\tLoss: 0.009582\n",
            "Train Epoch: 0 [38400/50000 (76.7%)]\tLoss: 0.009811\n",
            "Train Epoch: 0 [44800/50000 (89.5%)]\tLoss: 0.155739\n",
            "main_finetune.py:153: UserWarning: volatile was removed and now has no effect. Use `with torch.no_grad():` instead.\n",
            "  data, target = Variable(data, volatile=True), Variable(target)\n",
            "/usr/local/lib/python3.6/dist-packages/torch/nn/_reduction.py:43: UserWarning: size_average and reduce args will be deprecated, please use reduction='sum' instead.\n",
            "  warnings.warn(warning.format(ret))\n",
            "\n",
            "Test set: Average loss: 0.3477, Accuracy: 9129/10000 (91.3%)\n",
            "\n",
            "Train Epoch: 1 [0/50000 (0.0%)]\tLoss: 0.009152\n",
            "Train Epoch: 1 [6400/50000 (12.8%)]\tLoss: 0.089645\n",
            "Train Epoch: 1 [12800/50000 (25.6%)]\tLoss: 0.047015\n",
            "Train Epoch: 1 [19200/50000 (38.4%)]\tLoss: 0.047937\n",
            "Train Epoch: 1 [25600/50000 (51.2%)]\tLoss: 0.032488\n",
            "Train Epoch: 1 [32000/50000 (63.9%)]\tLoss: 0.020071\n",
            "Train Epoch: 1 [38400/50000 (76.7%)]\tLoss: 0.081813\n",
            "Train Epoch: 1 [44800/50000 (89.5%)]\tLoss: 0.111484\n",
            "\n",
            "Test set: Average loss: 0.3336, Accuracy: 9183/10000 (91.8%)\n",
            "\n",
            "Train Epoch: 2 [0/50000 (0.0%)]\tLoss: 0.011975\n",
            "Train Epoch: 2 [6400/50000 (12.8%)]\tLoss: 0.014814\n",
            "Train Epoch: 2 [12800/50000 (25.6%)]\tLoss: 0.008070\n",
            "Train Epoch: 2 [19200/50000 (38.4%)]\tLoss: 0.018914\n",
            "Train Epoch: 2 [25600/50000 (51.2%)]\tLoss: 0.023121\n",
            "Train Epoch: 2 [32000/50000 (63.9%)]\tLoss: 0.008804\n",
            "Train Epoch: 2 [38400/50000 (76.7%)]\tLoss: 0.023065\n",
            "Train Epoch: 2 [44800/50000 (89.5%)]\tLoss: 0.002868\n",
            "\n",
            "Test set: Average loss: 0.3288, Accuracy: 9213/10000 (92.1%)\n",
            "\n",
            "Train Epoch: 3 [0/50000 (0.0%)]\tLoss: 0.013374\n",
            "Train Epoch: 3 [6400/50000 (12.8%)]\tLoss: 0.023179\n",
            "Train Epoch: 3 [12800/50000 (25.6%)]\tLoss: 0.019406\n",
            "Train Epoch: 3 [19200/50000 (38.4%)]\tLoss: 0.042802\n",
            "Train Epoch: 3 [25600/50000 (51.2%)]\tLoss: 0.011010\n",
            "Train Epoch: 3 [32000/50000 (63.9%)]\tLoss: 0.057304\n",
            "Train Epoch: 3 [38400/50000 (76.7%)]\tLoss: 0.035226\n",
            "Train Epoch: 3 [44800/50000 (89.5%)]\tLoss: 0.048308\n",
            "\n",
            "Test set: Average loss: 0.3266, Accuracy: 9201/10000 (92.0%)\n",
            "\n",
            "Train Epoch: 4 [0/50000 (0.0%)]\tLoss: 0.008174\n",
            "Train Epoch: 4 [6400/50000 (12.8%)]\tLoss: 0.008467\n",
            "Train Epoch: 4 [12800/50000 (25.6%)]\tLoss: 0.003094\n",
            "Train Epoch: 4 [19200/50000 (38.4%)]\tLoss: 0.082755\n",
            "Train Epoch: 4 [25600/50000 (51.2%)]\tLoss: 0.016185\n",
            "Train Epoch: 4 [32000/50000 (63.9%)]\tLoss: 0.049065\n",
            "Train Epoch: 4 [38400/50000 (76.7%)]\tLoss: 0.026801\n",
            "Train Epoch: 4 [44800/50000 (89.5%)]\tLoss: 0.002250\n",
            "\n",
            "Test set: Average loss: 0.3318, Accuracy: 9206/10000 (92.1%)\n",
            "\n",
            "Train Epoch: 5 [0/50000 (0.0%)]\tLoss: 0.002018\n",
            "Train Epoch: 5 [6400/50000 (12.8%)]\tLoss: 0.007306\n",
            "Train Epoch: 5 [12800/50000 (25.6%)]\tLoss: 0.011669\n",
            "Train Epoch: 5 [19200/50000 (38.4%)]\tLoss: 0.003059\n",
            "Train Epoch: 5 [25600/50000 (51.2%)]\tLoss: 0.006933\n",
            "Train Epoch: 5 [32000/50000 (63.9%)]\tLoss: 0.016025\n",
            "Train Epoch: 5 [38400/50000 (76.7%)]\tLoss: 0.026240\n",
            "Train Epoch: 5 [44800/50000 (89.5%)]\tLoss: 0.003916\n",
            "\n",
            "Test set: Average loss: 0.3434, Accuracy: 9212/10000 (92.1%)\n",
            "\n",
            "Train Epoch: 6 [0/50000 (0.0%)]\tLoss: 0.020614\n",
            "Train Epoch: 6 [6400/50000 (12.8%)]\tLoss: 0.002843\n",
            "Train Epoch: 6 [12800/50000 (25.6%)]\tLoss: 0.001831\n",
            "Train Epoch: 6 [19200/50000 (38.4%)]\tLoss: 0.044700\n",
            "Train Epoch: 6 [25600/50000 (51.2%)]\tLoss: 0.002042\n",
            "Train Epoch: 6 [32000/50000 (63.9%)]\tLoss: 0.003631\n",
            "Train Epoch: 6 [38400/50000 (76.7%)]\tLoss: 0.004278\n",
            "Train Epoch: 6 [44800/50000 (89.5%)]\tLoss: 0.042713\n",
            "\n",
            "Test set: Average loss: 0.3376, Accuracy: 9220/10000 (92.2%)\n",
            "\n",
            "Train Epoch: 7 [0/50000 (0.0%)]\tLoss: 0.004134\n",
            "Train Epoch: 7 [6400/50000 (12.8%)]\tLoss: 0.107496\n",
            "Train Epoch: 7 [12800/50000 (25.6%)]\tLoss: 0.001448\n",
            "Train Epoch: 7 [19200/50000 (38.4%)]\tLoss: 0.005017\n",
            "Train Epoch: 7 [25600/50000 (51.2%)]\tLoss: 0.020985\n",
            "Train Epoch: 7 [32000/50000 (63.9%)]\tLoss: 0.003262\n",
            "Train Epoch: 7 [38400/50000 (76.7%)]\tLoss: 0.000893\n",
            "Train Epoch: 7 [44800/50000 (89.5%)]\tLoss: 0.010961\n",
            "\n",
            "Test set: Average loss: 0.3443, Accuracy: 9235/10000 (92.3%)\n",
            "\n",
            "Train Epoch: 8 [0/50000 (0.0%)]\tLoss: 0.003112\n",
            "Train Epoch: 8 [6400/50000 (12.8%)]\tLoss: 0.017348\n",
            "Train Epoch: 8 [12800/50000 (25.6%)]\tLoss: 0.011812\n",
            "Train Epoch: 8 [19200/50000 (38.4%)]\tLoss: 0.003646\n",
            "Train Epoch: 8 [25600/50000 (51.2%)]\tLoss: 0.002184\n",
            "Train Epoch: 8 [32000/50000 (63.9%)]\tLoss: 0.006855\n",
            "Train Epoch: 8 [38400/50000 (76.7%)]\tLoss: 0.057637\n",
            "Train Epoch: 8 [44800/50000 (89.5%)]\tLoss: 0.009766\n",
            "\n",
            "Test set: Average loss: 0.3334, Accuracy: 9231/10000 (92.3%)\n",
            "\n",
            "Train Epoch: 9 [0/50000 (0.0%)]\tLoss: 0.003529\n",
            "Train Epoch: 9 [6400/50000 (12.8%)]\tLoss: 0.059618\n",
            "Train Epoch: 9 [12800/50000 (25.6%)]\tLoss: 0.028994\n",
            "Train Epoch: 9 [19200/50000 (38.4%)]\tLoss: 0.001903\n",
            "Train Epoch: 9 [25600/50000 (51.2%)]\tLoss: 0.002646\n",
            "Train Epoch: 9 [32000/50000 (63.9%)]\tLoss: 0.013013\n",
            "Train Epoch: 9 [38400/50000 (76.7%)]\tLoss: 0.024365\n",
            "Train Epoch: 9 [44800/50000 (89.5%)]\tLoss: 0.002322\n",
            "\n",
            "Test set: Average loss: 0.3446, Accuracy: 9242/10000 (92.4%)\n",
            "\n"
          ],
          "name": "stdout"
        }
      ]
    },
    {
      "cell_type": "code",
      "metadata": {
        "id": "_U7B_C0maKB-",
        "colab_type": "code",
        "colab": {}
      },
      "source": [
        ""
      ],
      "execution_count": 0,
      "outputs": []
    },
    {
      "cell_type": "markdown",
      "metadata": {
        "id": "tZar7adrcNs8",
        "colab_type": "text"
      },
      "source": [
        ""
      ]
    }
  ]
}