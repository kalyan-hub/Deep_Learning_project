{
  "nbformat": 4,
  "nbformat_minor": 0,
  "metadata": {
    "colab": {
      "name": "VGG_Pruning.ipynb",
      "provenance": [],
      "collapsed_sections": []
    },
    "kernelspec": {
      "name": "python3",
      "display_name": "Python 3"
    },
    "accelerator": "GPU"
  },
  "cells": [
    {
      "cell_type": "code",
      "metadata": {
        "id": "uRfx51tOiKeH",
        "colab_type": "code",
        "colab": {
          "base_uri": "https://localhost:8080/",
          "height": 125
        },
        "outputId": "0e6eebb9-1560-4479-f73d-0f6ddcec0e3c"
      },
      "source": [
        "from google.colab import drive\n",
        "drive.mount('/content/drive')"
      ],
      "execution_count": 3,
      "outputs": [
        {
          "output_type": "stream",
          "text": [
            "Go to this URL in a browser: https://accounts.google.com/o/oauth2/auth?client_id=947318989803-6bn6qk8qdgf4n4g3pfee6491hc0brc4i.apps.googleusercontent.com&redirect_uri=urn%3aietf%3awg%3aoauth%3a2.0%3aoob&response_type=code&scope=email%20https%3a%2f%2fwww.googleapis.com%2fauth%2fdocs.test%20https%3a%2f%2fwww.googleapis.com%2fauth%2fdrive%20https%3a%2f%2fwww.googleapis.com%2fauth%2fdrive.photos.readonly%20https%3a%2f%2fwww.googleapis.com%2fauth%2fpeopleapi.readonly\n",
            "\n",
            "Enter your authorization code:\n",
            "··········\n",
            "Mounted at /content/drive\n"
          ],
          "name": "stdout"
        }
      ]
    },
    {
      "cell_type": "code",
      "metadata": {
        "id": "sW_MjxsWMciP",
        "colab_type": "code",
        "outputId": "42813a0f-4ab5-4973-f9a9-80867e2b519c",
        "colab": {
          "base_uri": "https://localhost:8080/",
          "height": 34
        }
      },
      "source": [
        "cd '/content/drive/My Drive/Internship May 2020 (DL)/Vgg_prune'"
      ],
      "execution_count": 4,
      "outputs": [
        {
          "output_type": "stream",
          "text": [
            "/content/drive/My Drive/Internship May 2020 (DL)/Vgg_prune\n"
          ],
          "name": "stdout"
        }
      ]
    },
    {
      "cell_type": "code",
      "metadata": {
        "id": "nQ75p0RnkckJ",
        "colab_type": "code",
        "colab": {}
      },
      "source": [
        "import torch\n",
        "import torch.nn as nn\n",
        "import matplotlib.pyplot as plt\n",
        "%matplotlib inline\n",
        "import numpy as np\n",
        "from sklearn.cluster import KMeans"
      ],
      "execution_count": 0,
      "outputs": []
    },
    {
      "cell_type": "code",
      "metadata": {
        "id": "OZw_qo10ddUW",
        "colab_type": "code",
        "colab": {}
      },
      "source": [
        "!python main.py -h"
      ],
      "execution_count": 0,
      "outputs": []
    },
    {
      "cell_type": "code",
      "metadata": {
        "id": "zJoWaCXiZ1Sb",
        "colab_type": "code",
        "colab": {
          "base_uri": "https://localhost:8080/",
          "height": 34
        },
        "outputId": "427c1e54-e79b-482e-eca4-f9e8394223c9"
      },
      "source": [
        "import collections\n",
        "Dev = collections.namedtuple('Dev','clusters')\n",
        "s = Dev(['1st','2nd','3rd'])\n",
        "print(s)"
      ],
      "execution_count": 84,
      "outputs": [
        {
          "output_type": "stream",
          "text": [
            "Dev(clusters=['1st', '2nd', '3rd'])\n"
          ],
          "name": "stdout"
        }
      ]
    },
    {
      "cell_type": "code",
      "metadata": {
        "id": "cDPREzrmW4dK",
        "colab_type": "code",
        "colab": {}
      },
      "source": [
        "model = torch.load('logs/model_best.pth.tar')\n",
        "checkpoint = torch.load('logs/checkpoint.pth.tar')"
      ],
      "execution_count": 0,
      "outputs": []
    },
    {
      "cell_type": "code",
      "metadata": {
        "id": "N1zlKvEj_q1i",
        "colab_type": "code",
        "colab": {
          "base_uri": "https://localhost:8080/",
          "height": 52
        },
        "outputId": "97185941-4f31-4fe6-85bd-cd930e1c76de"
      },
      "source": [
        "from models import *\n",
        "print(model.keys())\n",
        "print(checkpoint.keys())"
      ],
      "execution_count": 7,
      "outputs": [
        {
          "output_type": "stream",
          "text": [
            "dict_keys(['epoch', 'state_dict', 'best_prec1', 'optimizer', 'cfg'])\n",
            "dict_keys(['epoch', 'state_dict', 'best_prec1', 'optimizer', 'cfg'])\n"
          ],
          "name": "stdout"
        }
      ]
    },
    {
      "cell_type": "code",
      "metadata": {
        "id": "BywE8YIlYa7B",
        "colab_type": "code",
        "outputId": "9ee4c311-e001-447d-afb9-d99445a5b976",
        "colab": {
          "base_uri": "https://localhost:8080/",
          "height": 34
        }
      },
      "source": [
        "model = vgg(dataset='cifar10', depth=16)\n",
        "model.load_state_dict(checkpoint['state_dict'])"
      ],
      "execution_count": 8,
      "outputs": [
        {
          "output_type": "execute_result",
          "data": {
            "text/plain": [
              "<All keys matched successfully>"
            ]
          },
          "metadata": {
            "tags": []
          },
          "execution_count": 8
        }
      ]
    },
    {
      "cell_type": "markdown",
      "metadata": {
        "id": "wxE76iRlarLT",
        "colab_type": "text"
      },
      "source": [
        "***Clustering with K means***"
      ]
    },
    {
      "cell_type": "code",
      "metadata": {
        "id": "RkNbf64K4IeL",
        "colab_type": "code",
        "colab": {}
      },
      "source": [
        "from sklearn.cluster import KMeans\n",
        "import collections\n",
        "conv_layer = 1 \n",
        "Clusters_list = []\n",
        "reshaped_weights = []\n",
        "for m in model.modules():\n",
        "  if isinstance(m , nn.Conv2d):\n",
        "    shape = m.weight.data.shape\n",
        "    reshaped_tensor = m.weight.data.clone().numpy().reshape(shape[0] , shape[1]*shape[2]*shape[3])\n",
        "    reshaped_weights.append(reshaped_tensor)\n",
        "    km = KMeans(\n",
        "    n_clusters=16, init='random',\n",
        "    n_init=10, max_iter=1000, \n",
        "    tol=1e-04, random_state=0\n",
        "    ).fit(reshaped_tensor)\n",
        "    Conv_layer =  collections.namedtuple('Conv2d_'+str(conv_layer) , 'clusters')\n",
        "    Clusters = Conv_layer(km.labels_)\n",
        "    Clusters_list.append(Clusters)\n",
        "    conv_layer += 1\n"
      ],
      "execution_count": 0,
      "outputs": []
    },
    {
      "cell_type": "code",
      "metadata": {
        "id": "N_b75jP7oqM2",
        "colab_type": "code",
        "colab": {
          "base_uri": "https://localhost:8080/",
          "height": 107
        },
        "outputId": "2b563a90-851c-41bb-cb12-837729c707b8"
      },
      "source": [
        "\n",
        "print(Clusters_list[0])# Cluster array represents the cluster no. for that particular filter\n"
      ],
      "execution_count": 83,
      "outputs": [
        {
          "output_type": "stream",
          "text": [
            "Conv2d_1(clusters=array([12, 10, 12, 12,  3, 12, 12, 12, 15,  4, 12, 12, 12, 12, 15, 12, 12,\n",
            "       12, 13,  7, 12,  6, 14, 12, 13, 12,  4, 12, 12,  6,  8, 12, 12, 12,\n",
            "       12, 12,  4,  4, 12, 12, 12, 12,  7, 12,  0,  1,  5, 11, 12, 12,  8,\n",
            "        8, 12,  9,  2,  8, 12, 12,  8, 10, 12, 12, 12, 12], dtype=int32))\n"
          ],
          "name": "stdout"
        }
      ]
    }
  ]
}